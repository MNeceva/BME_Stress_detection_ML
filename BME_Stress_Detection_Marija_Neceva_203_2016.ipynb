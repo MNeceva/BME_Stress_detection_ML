{
 "cells": [
  {
   "cell_type": "markdown",
   "metadata": {},
   "source": [
    "### Imports"
   ]
  },
  {
   "cell_type": "code",
   "execution_count": 242,
   "metadata": {},
   "outputs": [],
   "source": [
    "import numpy as np \n",
    "import pandas as pd  \n",
    "import seaborn as sns\n",
    "import scipy.signal as signal\n",
    "from matplotlib import pyplot as plt\n",
    "from sklearn.pipeline import make_pipeline\n",
    "from mlxtend.plotting import plot_confusion_matrix as pcm\n",
    "\n",
    "from sklearn import datasets\n",
    "from sklearn.feature_selection import RFE\n",
    "from sklearn.preprocessing import StandardScaler\n",
    "from sklearn.model_selection import GridSearchCV\n",
    "from sklearn.feature_selection import SelectKBest\n",
    "\n",
    "from sklearn.metrics import f1_score\n",
    "from sklearn.metrics import accuracy_score\n",
    "from sklearn.metrics import confusion_matrix\n",
    "from sklearn.model_selection import train_test_split\n",
    "\n",
    "import xgboost as xgb\n",
    "from sklearn import svm\n",
    "from tpot import TPOTClassifier\n",
    "from sklearn.naive_bayes import GaussianNB\n",
    "# from sklearn.ensemble import StackingClassifier\n",
    "from sklearn.neighbors import KNeighborsClassifier\n",
    "from sklearn.linear_model import LogisticRegression\n",
    "from sklearn.ensemble import (RandomForestClassifier,AdaBoostClassifier)\n",
    "\n",
    "np.random.seed(42)"
   ]
  },
  {
   "cell_type": "markdown",
   "metadata": {},
   "source": [
    "### Functions data preprocessing"
   ]
  },
  {
   "cell_type": "code",
   "execution_count": 6,
   "metadata": {},
   "outputs": [],
   "source": [
    "def fix_stress_labels(df='',label_column='stress'):\n",
    "    df['stress'] = np.where(df['stress']>=0.5, 1, 0)\n",
    "    display(df[\"stress\"].unique())\n",
    "    return df\n",
    "\n",
    "def missing_values(df):\n",
    "    df = df.reset_index()\n",
    "    df = df.replace([np.inf, -np.inf], np.nan)\n",
    "    df[~np.isfinite(df)] = np.nan\n",
    "    df=df.replace(np.nan,0)\n",
    "    df.plot( y=[\"HR\"])\n",
    "    \n",
    "    df['HR'].fillna((df['HR'].mean()), inplace=True)\n",
    "    df['HR'] = signal.medfilt(df['HR'],13) \n",
    "    print(df.shape)\n",
    "    df.plot( y=[\"HR\"])\n",
    "\n",
    "    df.fillna(df.mean(),inplace=True)\n",
    "    #print(df.shape)\n",
    "    return df"
   ]
  },
  {
   "cell_type": "markdown",
   "metadata": {},
   "source": [
    "### Functions model evaluation"
   ]
  },
  {
   "cell_type": "code",
   "execution_count": 243,
   "metadata": {},
   "outputs": [],
   "source": [
    "def grid_search(model,params,X_data,y_data):\n",
    "    gs=GridSearchCV(model,param_grid=params,cv=3,verbose=1,return_train_score=True).fit(X_data, y_data)\n",
    "    \n",
    "    return gs.best_params_,gs.best_score_\n",
    "    \n",
    "def model_eval(model,X_train,X_test,y_train,y_test):\n",
    "    model.fit(X_train,y_train)\n",
    "    \n",
    "    y_pred=model.predict(X_test)\n",
    "\n",
    "    acc=accuracy_score(y_test, y_pred)\n",
    "    f1=f1_score(y_test, y_pred)\n",
    "    cf_matrix=confusion_matrix(y_test,y_pred)\n",
    "    tn, fp, fn, tp = cf_matrix.ravel()\n",
    "    print('Accuracy:', acc)  \n",
    "    print('F1 score:', f1)  \n",
    "#     print(cf_matrix)\n",
    "#     print(str(tn))\n",
    "#     print(str(fn))\n",
    "#     print(str(tp))\n",
    "#     print(str(fp))\n",
    "#     sns.heatmap([[tn, fp], [fn, tp]], annot=True)\n",
    "\n",
    "    fig,ax=pcm(conf_mat=cf_matrix,cmap='PuBuGn')\n",
    "    plt.show()\n",
    "    return f1\n",
    "\n",
    "def do_tpot(X_train,X_test,y_train,y_test,generations=5, population_size=10,X='',y=''):\n",
    "    tpot = TPOTClassifier(generations=generations, population_size=population_size, verbosity=2,cv=3,scoring='f1',random_state=42)\n",
    "    tpot.fit(X_train, y_train)\n",
    "    print(tpot.score(X_test, y_test))\n",
    "    tpot.export('tpot_pipeline_3.py')\n",
    "    return tpot\n",
    "\n",
    "def do_tpot_raw(generations=5, population_size=10,X='',y=''):\n",
    "\n",
    "    X_train, X_test, y_train, y_test = train_test_split(X, y,train_size=0.80, test_size=0.20)\n",
    "\n",
    "    tpot = TPOTClassifier(generations=generations, population_size=population_size, verbosity=2,cv=3)\n",
    "    tpot.fit(X_train, y_train)\n",
    "    print(tpot.score(X_test, y_test))\n",
    "    tpot.export('tpot_pipeline_raw.py')\n",
    "    return tpot\n"
   ]
  },
  {
   "cell_type": "markdown",
   "metadata": {},
   "source": [
    "### Data loading"
   ]
  },
  {
   "cell_type": "code",
   "execution_count": 8,
   "metadata": {},
   "outputs": [],
   "source": [
    "df=pd.read_csv(\"dataset/dataframe_hrv.csv\",header=0)"
   ]
  },
  {
   "cell_type": "code",
   "execution_count": 9,
   "metadata": {},
   "outputs": [
    {
     "data": {
      "text/plain": [
       "(4129, 23)"
      ]
     },
     "execution_count": 9,
     "metadata": {},
     "output_type": "execute_result"
    }
   ],
   "source": [
    "df.shape"
   ]
  },
  {
   "cell_type": "code",
   "execution_count": 10,
   "metadata": {},
   "outputs": [
    {
     "data": {
      "text/html": [
       "<div>\n",
       "<style scoped>\n",
       "    .dataframe tbody tr th:only-of-type {\n",
       "        vertical-align: middle;\n",
       "    }\n",
       "\n",
       "    .dataframe tbody tr th {\n",
       "        vertical-align: top;\n",
       "    }\n",
       "\n",
       "    .dataframe thead th {\n",
       "        text-align: right;\n",
       "    }\n",
       "</style>\n",
       "<table border=\"1\" class=\"dataframe\">\n",
       "  <thead>\n",
       "    <tr style=\"text-align: right;\">\n",
       "      <th></th>\n",
       "      <th>ECG</th>\n",
       "      <th>EMG</th>\n",
       "      <th>HR</th>\n",
       "      <th>RESP</th>\n",
       "      <th>Seconds</th>\n",
       "      <th>footGSR</th>\n",
       "      <th>handGSR</th>\n",
       "      <th>interval in seconds</th>\n",
       "      <th>marker</th>\n",
       "      <th>newtime</th>\n",
       "      <th>...</th>\n",
       "      <th>AVNN</th>\n",
       "      <th>SDNN</th>\n",
       "      <th>RMSSD</th>\n",
       "      <th>pNN50</th>\n",
       "      <th>TP</th>\n",
       "      <th>ULF</th>\n",
       "      <th>VLF</th>\n",
       "      <th>LF</th>\n",
       "      <th>HF</th>\n",
       "      <th>LF_HF</th>\n",
       "    </tr>\n",
       "  </thead>\n",
       "  <tbody>\n",
       "    <tr>\n",
       "      <td>0</td>\n",
       "      <td>-0.001974</td>\n",
       "      <td>-0.004737</td>\n",
       "      <td>77.815789</td>\n",
       "      <td>10.801842</td>\n",
       "      <td>12.529684</td>\n",
       "      <td>2.417132</td>\n",
       "      <td>10.889447</td>\n",
       "      <td>0.614632</td>\n",
       "      <td>NaN</td>\n",
       "      <td>12.529684</td>\n",
       "      <td>...</td>\n",
       "      <td>0.617297</td>\n",
       "      <td>3.558630e-02</td>\n",
       "      <td>0.015203</td>\n",
       "      <td>0.055556</td>\n",
       "      <td>0.001238</td>\n",
       "      <td>0.0</td>\n",
       "      <td>0.000696</td>\n",
       "      <td>0.000407</td>\n",
       "      <td>0.000135</td>\n",
       "      <td>3.00200</td>\n",
       "    </tr>\n",
       "    <tr>\n",
       "      <td>1</td>\n",
       "      <td>0.002935</td>\n",
       "      <td>-0.004457</td>\n",
       "      <td>101.978261</td>\n",
       "      <td>10.750609</td>\n",
       "      <td>30.503500</td>\n",
       "      <td>2.417109</td>\n",
       "      <td>11.251065</td>\n",
       "      <td>0.647826</td>\n",
       "      <td>NaN</td>\n",
       "      <td>30.503500</td>\n",
       "      <td>...</td>\n",
       "      <td>0.647889</td>\n",
       "      <td>1.354660e-02</td>\n",
       "      <td>0.013858</td>\n",
       "      <td>0.045455</td>\n",
       "      <td>0.000144</td>\n",
       "      <td>0.0</td>\n",
       "      <td>0.000009</td>\n",
       "      <td>0.000060</td>\n",
       "      <td>0.000075</td>\n",
       "      <td>0.79371</td>\n",
       "    </tr>\n",
       "    <tr>\n",
       "      <td>2</td>\n",
       "      <td>0.006745</td>\n",
       "      <td>-0.003426</td>\n",
       "      <td>104.957447</td>\n",
       "      <td>10.557234</td>\n",
       "      <td>52.523021</td>\n",
       "      <td>2.226872</td>\n",
       "      <td>11.379638</td>\n",
       "      <td>0.646383</td>\n",
       "      <td>NaN</td>\n",
       "      <td>52.523021</td>\n",
       "      <td>...</td>\n",
       "      <td>0.645000</td>\n",
       "      <td>2.240000e-08</td>\n",
       "      <td>0.000000</td>\n",
       "      <td>0.000000</td>\n",
       "      <td>NaN</td>\n",
       "      <td>0.0</td>\n",
       "      <td>NaN</td>\n",
       "      <td>NaN</td>\n",
       "      <td>NaN</td>\n",
       "      <td>NaN</td>\n",
       "    </tr>\n",
       "    <tr>\n",
       "      <td>3</td>\n",
       "      <td>-0.004043</td>\n",
       "      <td>-0.002532</td>\n",
       "      <td>87.702128</td>\n",
       "      <td>10.640128</td>\n",
       "      <td>74.402170</td>\n",
       "      <td>2.173021</td>\n",
       "      <td>11.470830</td>\n",
       "      <td>0.645000</td>\n",
       "      <td>NaN</td>\n",
       "      <td>74.402170</td>\n",
       "      <td>...</td>\n",
       "      <td>0.645000</td>\n",
       "      <td>2.240000e-08</td>\n",
       "      <td>0.000000</td>\n",
       "      <td>0.000000</td>\n",
       "      <td>NaN</td>\n",
       "      <td>0.0</td>\n",
       "      <td>NaN</td>\n",
       "      <td>NaN</td>\n",
       "      <td>NaN</td>\n",
       "      <td>NaN</td>\n",
       "    </tr>\n",
       "    <tr>\n",
       "      <td>4</td>\n",
       "      <td>0.012745</td>\n",
       "      <td>-0.004426</td>\n",
       "      <td>88.829787</td>\n",
       "      <td>10.699319</td>\n",
       "      <td>96.219617</td>\n",
       "      <td>2.017106</td>\n",
       "      <td>11.135255</td>\n",
       "      <td>0.645000</td>\n",
       "      <td>NaN</td>\n",
       "      <td>96.219617</td>\n",
       "      <td>...</td>\n",
       "      <td>0.645000</td>\n",
       "      <td>2.240000e-08</td>\n",
       "      <td>0.000000</td>\n",
       "      <td>0.000000</td>\n",
       "      <td>NaN</td>\n",
       "      <td>0.0</td>\n",
       "      <td>NaN</td>\n",
       "      <td>NaN</td>\n",
       "      <td>NaN</td>\n",
       "      <td>NaN</td>\n",
       "    </tr>\n",
       "    <tr>\n",
       "      <td>5</td>\n",
       "      <td>0.027787</td>\n",
       "      <td>-0.004957</td>\n",
       "      <td>91.404255</td>\n",
       "      <td>10.744000</td>\n",
       "      <td>117.803638</td>\n",
       "      <td>2.147362</td>\n",
       "      <td>12.202340</td>\n",
       "      <td>0.645000</td>\n",
       "      <td>NaN</td>\n",
       "      <td>117.803638</td>\n",
       "      <td>...</td>\n",
       "      <td>0.645000</td>\n",
       "      <td>2.240000e-08</td>\n",
       "      <td>0.000000</td>\n",
       "      <td>0.000000</td>\n",
       "      <td>NaN</td>\n",
       "      <td>0.0</td>\n",
       "      <td>NaN</td>\n",
       "      <td>NaN</td>\n",
       "      <td>NaN</td>\n",
       "      <td>NaN</td>\n",
       "    </tr>\n",
       "    <tr>\n",
       "      <td>6</td>\n",
       "      <td>-0.010851</td>\n",
       "      <td>-0.004681</td>\n",
       "      <td>87.319149</td>\n",
       "      <td>10.821277</td>\n",
       "      <td>138.888064</td>\n",
       "      <td>2.277298</td>\n",
       "      <td>13.075745</td>\n",
       "      <td>0.645000</td>\n",
       "      <td>NaN</td>\n",
       "      <td>138.888064</td>\n",
       "      <td>...</td>\n",
       "      <td>0.645000</td>\n",
       "      <td>2.240000e-08</td>\n",
       "      <td>0.000000</td>\n",
       "      <td>0.000000</td>\n",
       "      <td>NaN</td>\n",
       "      <td>0.0</td>\n",
       "      <td>NaN</td>\n",
       "      <td>NaN</td>\n",
       "      <td>NaN</td>\n",
       "      <td>NaN</td>\n",
       "    </tr>\n",
       "    <tr>\n",
       "      <td>7</td>\n",
       "      <td>-0.005217</td>\n",
       "      <td>-0.004130</td>\n",
       "      <td>79.521739</td>\n",
       "      <td>11.113217</td>\n",
       "      <td>159.908717</td>\n",
       "      <td>2.313348</td>\n",
       "      <td>13.828065</td>\n",
       "      <td>0.654891</td>\n",
       "      <td>NaN</td>\n",
       "      <td>159.908717</td>\n",
       "      <td>...</td>\n",
       "      <td>0.655111</td>\n",
       "      <td>2.382440e-02</td>\n",
       "      <td>0.009799</td>\n",
       "      <td>0.022727</td>\n",
       "      <td>0.000548</td>\n",
       "      <td>0.0</td>\n",
       "      <td>0.000223</td>\n",
       "      <td>0.000292</td>\n",
       "      <td>0.000033</td>\n",
       "      <td>8.79347</td>\n",
       "    </tr>\n",
       "    <tr>\n",
       "      <td>8</td>\n",
       "      <td>-0.019386</td>\n",
       "      <td>-0.003727</td>\n",
       "      <td>88.022727</td>\n",
       "      <td>10.937545</td>\n",
       "      <td>181.149523</td>\n",
       "      <td>2.273705</td>\n",
       "      <td>13.609318</td>\n",
       "      <td>0.698182</td>\n",
       "      <td>NaN</td>\n",
       "      <td>181.149523</td>\n",
       "      <td>...</td>\n",
       "      <td>0.699419</td>\n",
       "      <td>2.428030e-02</td>\n",
       "      <td>0.010030</td>\n",
       "      <td>0.023810</td>\n",
       "      <td>0.000538</td>\n",
       "      <td>0.0</td>\n",
       "      <td>0.000237</td>\n",
       "      <td>0.000271</td>\n",
       "      <td>0.000030</td>\n",
       "      <td>9.11724</td>\n",
       "    </tr>\n",
       "    <tr>\n",
       "      <td>9</td>\n",
       "      <td>-0.065409</td>\n",
       "      <td>-0.002409</td>\n",
       "      <td>89.863636</td>\n",
       "      <td>11.204727</td>\n",
       "      <td>201.824091</td>\n",
       "      <td>2.090182</td>\n",
       "      <td>12.408636</td>\n",
       "      <td>0.710000</td>\n",
       "      <td>NaN</td>\n",
       "      <td>201.824091</td>\n",
       "      <td>...</td>\n",
       "      <td>0.710000</td>\n",
       "      <td>NaN</td>\n",
       "      <td>0.000000</td>\n",
       "      <td>0.000000</td>\n",
       "      <td>NaN</td>\n",
       "      <td>0.0</td>\n",
       "      <td>NaN</td>\n",
       "      <td>NaN</td>\n",
       "      <td>NaN</td>\n",
       "      <td>NaN</td>\n",
       "    </tr>\n",
       "    <tr>\n",
       "      <td>10</td>\n",
       "      <td>-0.000977</td>\n",
       "      <td>-0.003045</td>\n",
       "      <td>86.909091</td>\n",
       "      <td>11.311909</td>\n",
       "      <td>222.365136</td>\n",
       "      <td>1.956545</td>\n",
       "      <td>11.330386</td>\n",
       "      <td>0.710000</td>\n",
       "      <td>NaN</td>\n",
       "      <td>222.365136</td>\n",
       "      <td>...</td>\n",
       "      <td>0.710000</td>\n",
       "      <td>NaN</td>\n",
       "      <td>0.000000</td>\n",
       "      <td>0.000000</td>\n",
       "      <td>NaN</td>\n",
       "      <td>0.0</td>\n",
       "      <td>NaN</td>\n",
       "      <td>NaN</td>\n",
       "      <td>NaN</td>\n",
       "      <td>NaN</td>\n",
       "    </tr>\n",
       "    <tr>\n",
       "      <td>11</td>\n",
       "      <td>-0.003727</td>\n",
       "      <td>-0.004068</td>\n",
       "      <td>85.272727</td>\n",
       "      <td>10.967727</td>\n",
       "      <td>243.277136</td>\n",
       "      <td>1.861091</td>\n",
       "      <td>10.324932</td>\n",
       "      <td>0.710000</td>\n",
       "      <td>NaN</td>\n",
       "      <td>243.277136</td>\n",
       "      <td>...</td>\n",
       "      <td>0.710000</td>\n",
       "      <td>NaN</td>\n",
       "      <td>0.000000</td>\n",
       "      <td>0.000000</td>\n",
       "      <td>NaN</td>\n",
       "      <td>0.0</td>\n",
       "      <td>NaN</td>\n",
       "      <td>NaN</td>\n",
       "      <td>NaN</td>\n",
       "      <td>NaN</td>\n",
       "    </tr>\n",
       "    <tr>\n",
       "      <td>12</td>\n",
       "      <td>0.018227</td>\n",
       "      <td>-0.003364</td>\n",
       "      <td>81.659091</td>\n",
       "      <td>10.757591</td>\n",
       "      <td>265.347477</td>\n",
       "      <td>1.780273</td>\n",
       "      <td>9.395659</td>\n",
       "      <td>0.699659</td>\n",
       "      <td>NaN</td>\n",
       "      <td>265.347477</td>\n",
       "      <td>...</td>\n",
       "      <td>0.699419</td>\n",
       "      <td>2.428030e-02</td>\n",
       "      <td>0.020059</td>\n",
       "      <td>0.095238</td>\n",
       "      <td>0.000517</td>\n",
       "      <td>0.0</td>\n",
       "      <td>0.000150</td>\n",
       "      <td>0.000290</td>\n",
       "      <td>0.000077</td>\n",
       "      <td>3.78234</td>\n",
       "    </tr>\n",
       "    <tr>\n",
       "      <td>13</td>\n",
       "      <td>-0.005114</td>\n",
       "      <td>-0.004273</td>\n",
       "      <td>86.500000</td>\n",
       "      <td>10.232591</td>\n",
       "      <td>286.365114</td>\n",
       "      <td>1.711477</td>\n",
       "      <td>8.681909</td>\n",
       "      <td>0.710000</td>\n",
       "      <td>NaN</td>\n",
       "      <td>286.365114</td>\n",
       "      <td>...</td>\n",
       "      <td>0.710000</td>\n",
       "      <td>NaN</td>\n",
       "      <td>0.000000</td>\n",
       "      <td>0.000000</td>\n",
       "      <td>NaN</td>\n",
       "      <td>0.0</td>\n",
       "      <td>NaN</td>\n",
       "      <td>NaN</td>\n",
       "      <td>NaN</td>\n",
       "      <td>NaN</td>\n",
       "    </tr>\n",
       "    <tr>\n",
       "      <td>14</td>\n",
       "      <td>-0.004295</td>\n",
       "      <td>-0.005682</td>\n",
       "      <td>84.750000</td>\n",
       "      <td>10.333227</td>\n",
       "      <td>306.881250</td>\n",
       "      <td>1.648500</td>\n",
       "      <td>8.055864</td>\n",
       "      <td>0.710000</td>\n",
       "      <td>NaN</td>\n",
       "      <td>306.881250</td>\n",
       "      <td>...</td>\n",
       "      <td>0.710000</td>\n",
       "      <td>NaN</td>\n",
       "      <td>0.000000</td>\n",
       "      <td>0.000000</td>\n",
       "      <td>NaN</td>\n",
       "      <td>0.0</td>\n",
       "      <td>NaN</td>\n",
       "      <td>NaN</td>\n",
       "      <td>NaN</td>\n",
       "      <td>NaN</td>\n",
       "    </tr>\n",
       "    <tr>\n",
       "      <td>15</td>\n",
       "      <td>-0.005773</td>\n",
       "      <td>-0.004136</td>\n",
       "      <td>83.204545</td>\n",
       "      <td>11.003045</td>\n",
       "      <td>328.098227</td>\n",
       "      <td>1.587955</td>\n",
       "      <td>7.451432</td>\n",
       "      <td>0.710000</td>\n",
       "      <td>NaN</td>\n",
       "      <td>328.098227</td>\n",
       "      <td>...</td>\n",
       "      <td>0.710000</td>\n",
       "      <td>NaN</td>\n",
       "      <td>0.000000</td>\n",
       "      <td>0.000000</td>\n",
       "      <td>NaN</td>\n",
       "      <td>0.0</td>\n",
       "      <td>NaN</td>\n",
       "      <td>NaN</td>\n",
       "      <td>NaN</td>\n",
       "      <td>NaN</td>\n",
       "    </tr>\n",
       "    <tr>\n",
       "      <td>16</td>\n",
       "      <td>-0.049591</td>\n",
       "      <td>-0.003386</td>\n",
       "      <td>86.613636</td>\n",
       "      <td>11.179682</td>\n",
       "      <td>348.205182</td>\n",
       "      <td>1.536341</td>\n",
       "      <td>6.954045</td>\n",
       "      <td>0.710000</td>\n",
       "      <td>NaN</td>\n",
       "      <td>348.205182</td>\n",
       "      <td>...</td>\n",
       "      <td>0.710000</td>\n",
       "      <td>NaN</td>\n",
       "      <td>0.000000</td>\n",
       "      <td>0.000000</td>\n",
       "      <td>NaN</td>\n",
       "      <td>0.0</td>\n",
       "      <td>NaN</td>\n",
       "      <td>NaN</td>\n",
       "      <td>NaN</td>\n",
       "      <td>NaN</td>\n",
       "    </tr>\n",
       "    <tr>\n",
       "      <td>17</td>\n",
       "      <td>-0.026364</td>\n",
       "      <td>-0.002250</td>\n",
       "      <td>86.272727</td>\n",
       "      <td>11.248682</td>\n",
       "      <td>367.956000</td>\n",
       "      <td>1.490568</td>\n",
       "      <td>6.540455</td>\n",
       "      <td>0.710000</td>\n",
       "      <td>NaN</td>\n",
       "      <td>367.956000</td>\n",
       "      <td>...</td>\n",
       "      <td>0.710000</td>\n",
       "      <td>NaN</td>\n",
       "      <td>0.000000</td>\n",
       "      <td>0.000000</td>\n",
       "      <td>NaN</td>\n",
       "      <td>0.0</td>\n",
       "      <td>NaN</td>\n",
       "      <td>NaN</td>\n",
       "      <td>NaN</td>\n",
       "      <td>NaN</td>\n",
       "    </tr>\n",
       "    <tr>\n",
       "      <td>18</td>\n",
       "      <td>-0.045455</td>\n",
       "      <td>-0.004659</td>\n",
       "      <td>86.295455</td>\n",
       "      <td>11.338773</td>\n",
       "      <td>388.016227</td>\n",
       "      <td>1.447364</td>\n",
       "      <td>6.197636</td>\n",
       "      <td>0.710000</td>\n",
       "      <td>NaN</td>\n",
       "      <td>388.016227</td>\n",
       "      <td>...</td>\n",
       "      <td>0.710000</td>\n",
       "      <td>NaN</td>\n",
       "      <td>0.000000</td>\n",
       "      <td>0.000000</td>\n",
       "      <td>NaN</td>\n",
       "      <td>0.0</td>\n",
       "      <td>NaN</td>\n",
       "      <td>NaN</td>\n",
       "      <td>NaN</td>\n",
       "      <td>NaN</td>\n",
       "    </tr>\n",
       "    <tr>\n",
       "      <td>19</td>\n",
       "      <td>-0.048182</td>\n",
       "      <td>-0.004068</td>\n",
       "      <td>85.136364</td>\n",
       "      <td>11.283727</td>\n",
       "      <td>408.488341</td>\n",
       "      <td>1.409273</td>\n",
       "      <td>5.919045</td>\n",
       "      <td>0.710000</td>\n",
       "      <td>NaN</td>\n",
       "      <td>408.488341</td>\n",
       "      <td>...</td>\n",
       "      <td>0.710000</td>\n",
       "      <td>NaN</td>\n",
       "      <td>0.000000</td>\n",
       "      <td>0.000000</td>\n",
       "      <td>NaN</td>\n",
       "      <td>0.0</td>\n",
       "      <td>NaN</td>\n",
       "      <td>NaN</td>\n",
       "      <td>NaN</td>\n",
       "      <td>NaN</td>\n",
       "    </tr>\n",
       "  </tbody>\n",
       "</table>\n",
       "<p>20 rows × 23 columns</p>\n",
       "</div>"
      ],
      "text/plain": [
       "         ECG       EMG          HR       RESP     Seconds   footGSR  \\\n",
       "0  -0.001974 -0.004737   77.815789  10.801842   12.529684  2.417132   \n",
       "1   0.002935 -0.004457  101.978261  10.750609   30.503500  2.417109   \n",
       "2   0.006745 -0.003426  104.957447  10.557234   52.523021  2.226872   \n",
       "3  -0.004043 -0.002532   87.702128  10.640128   74.402170  2.173021   \n",
       "4   0.012745 -0.004426   88.829787  10.699319   96.219617  2.017106   \n",
       "5   0.027787 -0.004957   91.404255  10.744000  117.803638  2.147362   \n",
       "6  -0.010851 -0.004681   87.319149  10.821277  138.888064  2.277298   \n",
       "7  -0.005217 -0.004130   79.521739  11.113217  159.908717  2.313348   \n",
       "8  -0.019386 -0.003727   88.022727  10.937545  181.149523  2.273705   \n",
       "9  -0.065409 -0.002409   89.863636  11.204727  201.824091  2.090182   \n",
       "10 -0.000977 -0.003045   86.909091  11.311909  222.365136  1.956545   \n",
       "11 -0.003727 -0.004068   85.272727  10.967727  243.277136  1.861091   \n",
       "12  0.018227 -0.003364   81.659091  10.757591  265.347477  1.780273   \n",
       "13 -0.005114 -0.004273   86.500000  10.232591  286.365114  1.711477   \n",
       "14 -0.004295 -0.005682   84.750000  10.333227  306.881250  1.648500   \n",
       "15 -0.005773 -0.004136   83.204545  11.003045  328.098227  1.587955   \n",
       "16 -0.049591 -0.003386   86.613636  11.179682  348.205182  1.536341   \n",
       "17 -0.026364 -0.002250   86.272727  11.248682  367.956000  1.490568   \n",
       "18 -0.045455 -0.004659   86.295455  11.338773  388.016227  1.447364   \n",
       "19 -0.048182 -0.004068   85.136364  11.283727  408.488341  1.409273   \n",
       "\n",
       "      handGSR  interval in seconds  marker     newtime  ...      AVNN  \\\n",
       "0   10.889447             0.614632     NaN   12.529684  ...  0.617297   \n",
       "1   11.251065             0.647826     NaN   30.503500  ...  0.647889   \n",
       "2   11.379638             0.646383     NaN   52.523021  ...  0.645000   \n",
       "3   11.470830             0.645000     NaN   74.402170  ...  0.645000   \n",
       "4   11.135255             0.645000     NaN   96.219617  ...  0.645000   \n",
       "5   12.202340             0.645000     NaN  117.803638  ...  0.645000   \n",
       "6   13.075745             0.645000     NaN  138.888064  ...  0.645000   \n",
       "7   13.828065             0.654891     NaN  159.908717  ...  0.655111   \n",
       "8   13.609318             0.698182     NaN  181.149523  ...  0.699419   \n",
       "9   12.408636             0.710000     NaN  201.824091  ...  0.710000   \n",
       "10  11.330386             0.710000     NaN  222.365136  ...  0.710000   \n",
       "11  10.324932             0.710000     NaN  243.277136  ...  0.710000   \n",
       "12   9.395659             0.699659     NaN  265.347477  ...  0.699419   \n",
       "13   8.681909             0.710000     NaN  286.365114  ...  0.710000   \n",
       "14   8.055864             0.710000     NaN  306.881250  ...  0.710000   \n",
       "15   7.451432             0.710000     NaN  328.098227  ...  0.710000   \n",
       "16   6.954045             0.710000     NaN  348.205182  ...  0.710000   \n",
       "17   6.540455             0.710000     NaN  367.956000  ...  0.710000   \n",
       "18   6.197636             0.710000     NaN  388.016227  ...  0.710000   \n",
       "19   5.919045             0.710000     NaN  408.488341  ...  0.710000   \n",
       "\n",
       "            SDNN     RMSSD     pNN50        TP  ULF       VLF        LF  \\\n",
       "0   3.558630e-02  0.015203  0.055556  0.001238  0.0  0.000696  0.000407   \n",
       "1   1.354660e-02  0.013858  0.045455  0.000144  0.0  0.000009  0.000060   \n",
       "2   2.240000e-08  0.000000  0.000000       NaN  0.0       NaN       NaN   \n",
       "3   2.240000e-08  0.000000  0.000000       NaN  0.0       NaN       NaN   \n",
       "4   2.240000e-08  0.000000  0.000000       NaN  0.0       NaN       NaN   \n",
       "5   2.240000e-08  0.000000  0.000000       NaN  0.0       NaN       NaN   \n",
       "6   2.240000e-08  0.000000  0.000000       NaN  0.0       NaN       NaN   \n",
       "7   2.382440e-02  0.009799  0.022727  0.000548  0.0  0.000223  0.000292   \n",
       "8   2.428030e-02  0.010030  0.023810  0.000538  0.0  0.000237  0.000271   \n",
       "9            NaN  0.000000  0.000000       NaN  0.0       NaN       NaN   \n",
       "10           NaN  0.000000  0.000000       NaN  0.0       NaN       NaN   \n",
       "11           NaN  0.000000  0.000000       NaN  0.0       NaN       NaN   \n",
       "12  2.428030e-02  0.020059  0.095238  0.000517  0.0  0.000150  0.000290   \n",
       "13           NaN  0.000000  0.000000       NaN  0.0       NaN       NaN   \n",
       "14           NaN  0.000000  0.000000       NaN  0.0       NaN       NaN   \n",
       "15           NaN  0.000000  0.000000       NaN  0.0       NaN       NaN   \n",
       "16           NaN  0.000000  0.000000       NaN  0.0       NaN       NaN   \n",
       "17           NaN  0.000000  0.000000       NaN  0.0       NaN       NaN   \n",
       "18           NaN  0.000000  0.000000       NaN  0.0       NaN       NaN   \n",
       "19           NaN  0.000000  0.000000       NaN  0.0       NaN       NaN   \n",
       "\n",
       "          HF    LF_HF  \n",
       "0   0.000135  3.00200  \n",
       "1   0.000075  0.79371  \n",
       "2        NaN      NaN  \n",
       "3        NaN      NaN  \n",
       "4        NaN      NaN  \n",
       "5        NaN      NaN  \n",
       "6        NaN      NaN  \n",
       "7   0.000033  8.79347  \n",
       "8   0.000030  9.11724  \n",
       "9        NaN      NaN  \n",
       "10       NaN      NaN  \n",
       "11       NaN      NaN  \n",
       "12  0.000077  3.78234  \n",
       "13       NaN      NaN  \n",
       "14       NaN      NaN  \n",
       "15       NaN      NaN  \n",
       "16       NaN      NaN  \n",
       "17       NaN      NaN  \n",
       "18       NaN      NaN  \n",
       "19       NaN      NaN  \n",
       "\n",
       "[20 rows x 23 columns]"
      ]
     },
     "execution_count": 10,
     "metadata": {},
     "output_type": "execute_result"
    }
   ],
   "source": [
    "df.head(20)"
   ]
  },
  {
   "cell_type": "markdown",
   "metadata": {},
   "source": [
    "### Data cleaning/preprocessing"
   ]
  },
  {
   "cell_type": "code",
   "execution_count": 11,
   "metadata": {},
   "outputs": [
    {
     "data": {
      "text/plain": [
       "array([0, 1], dtype=int64)"
      ]
     },
     "metadata": {},
     "output_type": "display_data"
    },
    {
     "name": "stdout",
     "output_type": "stream",
     "text": [
      "(4129, 24)\n"
     ]
    },
    {
     "data": {
      "image/png": "[encoded data removed]",
      "text/plain": [
       "<Figure size 432x288 with 1 Axes>"
      ]
     },
     "metadata": {
      "needs_background": "light"
     },
     "output_type": "display_data"
    },
    {
     "data": {
      "image/png": "[encoded data removed]",
      "text/plain": [
       "<Figure size 432x288 with 1 Axes>"
      ]
     },
     "metadata": {
      "needs_background": "light"
     },
     "output_type": "display_data"
    }
   ],
   "source": [
    "df_fixed = fix_stress_labels(df=df)\n",
    "df_final = missing_values(df=df_fixed)"
   ]
  },
  {
   "cell_type": "code",
   "execution_count": 12,
   "metadata": {},
   "outputs": [
    {
     "data": {
      "text/html": [
       "<div>\n",
       "<style scoped>\n",
       "    .dataframe tbody tr th:only-of-type {\n",
       "        vertical-align: middle;\n",
       "    }\n",
       "\n",
       "    .dataframe tbody tr th {\n",
       "        vertical-align: top;\n",
       "    }\n",
       "\n",
       "    .dataframe thead th {\n",
       "        text-align: right;\n",
       "    }\n",
       "</style>\n",
       "<table border=\"1\" class=\"dataframe\">\n",
       "  <thead>\n",
       "    <tr style=\"text-align: right;\">\n",
       "      <th></th>\n",
       "      <th>index</th>\n",
       "      <th>ECG</th>\n",
       "      <th>EMG</th>\n",
       "      <th>HR</th>\n",
       "      <th>RESP</th>\n",
       "      <th>Seconds</th>\n",
       "      <th>footGSR</th>\n",
       "      <th>handGSR</th>\n",
       "      <th>interval in seconds</th>\n",
       "      <th>marker</th>\n",
       "      <th>...</th>\n",
       "      <th>AVNN</th>\n",
       "      <th>SDNN</th>\n",
       "      <th>RMSSD</th>\n",
       "      <th>pNN50</th>\n",
       "      <th>TP</th>\n",
       "      <th>ULF</th>\n",
       "      <th>VLF</th>\n",
       "      <th>LF</th>\n",
       "      <th>HF</th>\n",
       "      <th>LF_HF</th>\n",
       "    </tr>\n",
       "  </thead>\n",
       "  <tbody>\n",
       "    <tr>\n",
       "      <td>0</td>\n",
       "      <td>0</td>\n",
       "      <td>-0.001974</td>\n",
       "      <td>-0.004737</td>\n",
       "      <td>77.815789</td>\n",
       "      <td>10.801842</td>\n",
       "      <td>12.529684</td>\n",
       "      <td>2.417132</td>\n",
       "      <td>10.889447</td>\n",
       "      <td>0.614632</td>\n",
       "      <td>0.0</td>\n",
       "      <td>...</td>\n",
       "      <td>0.617297</td>\n",
       "      <td>3.558630e-02</td>\n",
       "      <td>0.015203</td>\n",
       "      <td>0.055556</td>\n",
       "      <td>0.001238</td>\n",
       "      <td>0.0</td>\n",
       "      <td>0.000696</td>\n",
       "      <td>0.000407</td>\n",
       "      <td>0.000135</td>\n",
       "      <td>3.00200</td>\n",
       "    </tr>\n",
       "    <tr>\n",
       "      <td>1</td>\n",
       "      <td>1</td>\n",
       "      <td>0.002935</td>\n",
       "      <td>-0.004457</td>\n",
       "      <td>79.521739</td>\n",
       "      <td>10.750609</td>\n",
       "      <td>30.503500</td>\n",
       "      <td>2.417109</td>\n",
       "      <td>11.251065</td>\n",
       "      <td>0.647826</td>\n",
       "      <td>0.0</td>\n",
       "      <td>...</td>\n",
       "      <td>0.647889</td>\n",
       "      <td>1.354660e-02</td>\n",
       "      <td>0.013858</td>\n",
       "      <td>0.045455</td>\n",
       "      <td>0.000144</td>\n",
       "      <td>0.0</td>\n",
       "      <td>0.000009</td>\n",
       "      <td>0.000060</td>\n",
       "      <td>0.000075</td>\n",
       "      <td>0.79371</td>\n",
       "    </tr>\n",
       "    <tr>\n",
       "      <td>2</td>\n",
       "      <td>2</td>\n",
       "      <td>0.006745</td>\n",
       "      <td>-0.003426</td>\n",
       "      <td>87.319149</td>\n",
       "      <td>10.557234</td>\n",
       "      <td>52.523021</td>\n",
       "      <td>2.226872</td>\n",
       "      <td>11.379638</td>\n",
       "      <td>0.646383</td>\n",
       "      <td>0.0</td>\n",
       "      <td>...</td>\n",
       "      <td>0.645000</td>\n",
       "      <td>2.240000e-08</td>\n",
       "      <td>0.000000</td>\n",
       "      <td>0.000000</td>\n",
       "      <td>0.000000</td>\n",
       "      <td>0.0</td>\n",
       "      <td>0.000000</td>\n",
       "      <td>0.000000</td>\n",
       "      <td>0.000000</td>\n",
       "      <td>0.00000</td>\n",
       "    </tr>\n",
       "    <tr>\n",
       "      <td>3</td>\n",
       "      <td>3</td>\n",
       "      <td>-0.004043</td>\n",
       "      <td>-0.002532</td>\n",
       "      <td>87.702128</td>\n",
       "      <td>10.640128</td>\n",
       "      <td>74.402170</td>\n",
       "      <td>2.173021</td>\n",
       "      <td>11.470830</td>\n",
       "      <td>0.645000</td>\n",
       "      <td>0.0</td>\n",
       "      <td>...</td>\n",
       "      <td>0.645000</td>\n",
       "      <td>2.240000e-08</td>\n",
       "      <td>0.000000</td>\n",
       "      <td>0.000000</td>\n",
       "      <td>0.000000</td>\n",
       "      <td>0.0</td>\n",
       "      <td>0.000000</td>\n",
       "      <td>0.000000</td>\n",
       "      <td>0.000000</td>\n",
       "      <td>0.00000</td>\n",
       "    </tr>\n",
       "    <tr>\n",
       "      <td>4</td>\n",
       "      <td>4</td>\n",
       "      <td>0.012745</td>\n",
       "      <td>-0.004426</td>\n",
       "      <td>87.702128</td>\n",
       "      <td>10.699319</td>\n",
       "      <td>96.219617</td>\n",
       "      <td>2.017106</td>\n",
       "      <td>11.135255</td>\n",
       "      <td>0.645000</td>\n",
       "      <td>0.0</td>\n",
       "      <td>...</td>\n",
       "      <td>0.645000</td>\n",
       "      <td>2.240000e-08</td>\n",
       "      <td>0.000000</td>\n",
       "      <td>0.000000</td>\n",
       "      <td>0.000000</td>\n",
       "      <td>0.0</td>\n",
       "      <td>0.000000</td>\n",
       "      <td>0.000000</td>\n",
       "      <td>0.000000</td>\n",
       "      <td>0.00000</td>\n",
       "    </tr>\n",
       "    <tr>\n",
       "      <td>5</td>\n",
       "      <td>5</td>\n",
       "      <td>0.027787</td>\n",
       "      <td>-0.004957</td>\n",
       "      <td>87.702128</td>\n",
       "      <td>10.744000</td>\n",
       "      <td>117.803638</td>\n",
       "      <td>2.147362</td>\n",
       "      <td>12.202340</td>\n",
       "      <td>0.645000</td>\n",
       "      <td>0.0</td>\n",
       "      <td>...</td>\n",
       "      <td>0.645000</td>\n",
       "      <td>2.240000e-08</td>\n",
       "      <td>0.000000</td>\n",
       "      <td>0.000000</td>\n",
       "      <td>0.000000</td>\n",
       "      <td>0.0</td>\n",
       "      <td>0.000000</td>\n",
       "      <td>0.000000</td>\n",
       "      <td>0.000000</td>\n",
       "      <td>0.00000</td>\n",
       "    </tr>\n",
       "    <tr>\n",
       "      <td>6</td>\n",
       "      <td>6</td>\n",
       "      <td>-0.010851</td>\n",
       "      <td>-0.004681</td>\n",
       "      <td>87.702128</td>\n",
       "      <td>10.821277</td>\n",
       "      <td>138.888064</td>\n",
       "      <td>2.277298</td>\n",
       "      <td>13.075745</td>\n",
       "      <td>0.645000</td>\n",
       "      <td>0.0</td>\n",
       "      <td>...</td>\n",
       "      <td>0.645000</td>\n",
       "      <td>2.240000e-08</td>\n",
       "      <td>0.000000</td>\n",
       "      <td>0.000000</td>\n",
       "      <td>0.000000</td>\n",
       "      <td>0.0</td>\n",
       "      <td>0.000000</td>\n",
       "      <td>0.000000</td>\n",
       "      <td>0.000000</td>\n",
       "      <td>0.00000</td>\n",
       "    </tr>\n",
       "    <tr>\n",
       "      <td>7</td>\n",
       "      <td>7</td>\n",
       "      <td>-0.005217</td>\n",
       "      <td>-0.004130</td>\n",
       "      <td>87.702128</td>\n",
       "      <td>11.113217</td>\n",
       "      <td>159.908717</td>\n",
       "      <td>2.313348</td>\n",
       "      <td>13.828065</td>\n",
       "      <td>0.654891</td>\n",
       "      <td>0.0</td>\n",
       "      <td>...</td>\n",
       "      <td>0.655111</td>\n",
       "      <td>2.382440e-02</td>\n",
       "      <td>0.009799</td>\n",
       "      <td>0.022727</td>\n",
       "      <td>0.000548</td>\n",
       "      <td>0.0</td>\n",
       "      <td>0.000223</td>\n",
       "      <td>0.000292</td>\n",
       "      <td>0.000033</td>\n",
       "      <td>8.79347</td>\n",
       "    </tr>\n",
       "    <tr>\n",
       "      <td>8</td>\n",
       "      <td>8</td>\n",
       "      <td>-0.019386</td>\n",
       "      <td>-0.003727</td>\n",
       "      <td>87.319149</td>\n",
       "      <td>10.937545</td>\n",
       "      <td>181.149523</td>\n",
       "      <td>2.273705</td>\n",
       "      <td>13.609318</td>\n",
       "      <td>0.698182</td>\n",
       "      <td>0.0</td>\n",
       "      <td>...</td>\n",
       "      <td>0.699419</td>\n",
       "      <td>2.428030e-02</td>\n",
       "      <td>0.010030</td>\n",
       "      <td>0.023810</td>\n",
       "      <td>0.000538</td>\n",
       "      <td>0.0</td>\n",
       "      <td>0.000237</td>\n",
       "      <td>0.000271</td>\n",
       "      <td>0.000030</td>\n",
       "      <td>9.11724</td>\n",
       "    </tr>\n",
       "    <tr>\n",
       "      <td>9</td>\n",
       "      <td>9</td>\n",
       "      <td>-0.065409</td>\n",
       "      <td>-0.002409</td>\n",
       "      <td>86.909091</td>\n",
       "      <td>11.204727</td>\n",
       "      <td>201.824091</td>\n",
       "      <td>2.090182</td>\n",
       "      <td>12.408636</td>\n",
       "      <td>0.710000</td>\n",
       "      <td>0.0</td>\n",
       "      <td>...</td>\n",
       "      <td>0.710000</td>\n",
       "      <td>0.000000e+00</td>\n",
       "      <td>0.000000</td>\n",
       "      <td>0.000000</td>\n",
       "      <td>0.000000</td>\n",
       "      <td>0.0</td>\n",
       "      <td>0.000000</td>\n",
       "      <td>0.000000</td>\n",
       "      <td>0.000000</td>\n",
       "      <td>0.00000</td>\n",
       "    </tr>\n",
       "    <tr>\n",
       "      <td>10</td>\n",
       "      <td>10</td>\n",
       "      <td>-0.000977</td>\n",
       "      <td>-0.003045</td>\n",
       "      <td>86.613636</td>\n",
       "      <td>11.311909</td>\n",
       "      <td>222.365136</td>\n",
       "      <td>1.956545</td>\n",
       "      <td>11.330386</td>\n",
       "      <td>0.710000</td>\n",
       "      <td>0.0</td>\n",
       "      <td>...</td>\n",
       "      <td>0.710000</td>\n",
       "      <td>0.000000e+00</td>\n",
       "      <td>0.000000</td>\n",
       "      <td>0.000000</td>\n",
       "      <td>0.000000</td>\n",
       "      <td>0.0</td>\n",
       "      <td>0.000000</td>\n",
       "      <td>0.000000</td>\n",
       "      <td>0.000000</td>\n",
       "      <td>0.00000</td>\n",
       "    </tr>\n",
       "    <tr>\n",
       "      <td>11</td>\n",
       "      <td>11</td>\n",
       "      <td>-0.003727</td>\n",
       "      <td>-0.004068</td>\n",
       "      <td>86.500000</td>\n",
       "      <td>10.967727</td>\n",
       "      <td>243.277136</td>\n",
       "      <td>1.861091</td>\n",
       "      <td>10.324932</td>\n",
       "      <td>0.710000</td>\n",
       "      <td>0.0</td>\n",
       "      <td>...</td>\n",
       "      <td>0.710000</td>\n",
       "      <td>0.000000e+00</td>\n",
       "      <td>0.000000</td>\n",
       "      <td>0.000000</td>\n",
       "      <td>0.000000</td>\n",
       "      <td>0.0</td>\n",
       "      <td>0.000000</td>\n",
       "      <td>0.000000</td>\n",
       "      <td>0.000000</td>\n",
       "      <td>0.00000</td>\n",
       "    </tr>\n",
       "    <tr>\n",
       "      <td>12</td>\n",
       "      <td>12</td>\n",
       "      <td>0.018227</td>\n",
       "      <td>-0.003364</td>\n",
       "      <td>86.295455</td>\n",
       "      <td>10.757591</td>\n",
       "      <td>265.347477</td>\n",
       "      <td>1.780273</td>\n",
       "      <td>9.395659</td>\n",
       "      <td>0.699659</td>\n",
       "      <td>0.0</td>\n",
       "      <td>...</td>\n",
       "      <td>0.699419</td>\n",
       "      <td>2.428030e-02</td>\n",
       "      <td>0.020059</td>\n",
       "      <td>0.095238</td>\n",
       "      <td>0.000517</td>\n",
       "      <td>0.0</td>\n",
       "      <td>0.000150</td>\n",
       "      <td>0.000290</td>\n",
       "      <td>0.000077</td>\n",
       "      <td>3.78234</td>\n",
       "    </tr>\n",
       "    <tr>\n",
       "      <td>13</td>\n",
       "      <td>13</td>\n",
       "      <td>-0.005114</td>\n",
       "      <td>-0.004273</td>\n",
       "      <td>86.272727</td>\n",
       "      <td>10.232591</td>\n",
       "      <td>286.365114</td>\n",
       "      <td>1.711477</td>\n",
       "      <td>8.681909</td>\n",
       "      <td>0.710000</td>\n",
       "      <td>0.0</td>\n",
       "      <td>...</td>\n",
       "      <td>0.710000</td>\n",
       "      <td>0.000000e+00</td>\n",
       "      <td>0.000000</td>\n",
       "      <td>0.000000</td>\n",
       "      <td>0.000000</td>\n",
       "      <td>0.0</td>\n",
       "      <td>0.000000</td>\n",
       "      <td>0.000000</td>\n",
       "      <td>0.000000</td>\n",
       "      <td>0.00000</td>\n",
       "    </tr>\n",
       "    <tr>\n",
       "      <td>14</td>\n",
       "      <td>14</td>\n",
       "      <td>-0.004295</td>\n",
       "      <td>-0.005682</td>\n",
       "      <td>86.272727</td>\n",
       "      <td>10.333227</td>\n",
       "      <td>306.881250</td>\n",
       "      <td>1.648500</td>\n",
       "      <td>8.055864</td>\n",
       "      <td>0.710000</td>\n",
       "      <td>0.0</td>\n",
       "      <td>...</td>\n",
       "      <td>0.710000</td>\n",
       "      <td>0.000000e+00</td>\n",
       "      <td>0.000000</td>\n",
       "      <td>0.000000</td>\n",
       "      <td>0.000000</td>\n",
       "      <td>0.0</td>\n",
       "      <td>0.000000</td>\n",
       "      <td>0.000000</td>\n",
       "      <td>0.000000</td>\n",
       "      <td>0.00000</td>\n",
       "    </tr>\n",
       "    <tr>\n",
       "      <td>15</td>\n",
       "      <td>15</td>\n",
       "      <td>-0.005773</td>\n",
       "      <td>-0.004136</td>\n",
       "      <td>85.272727</td>\n",
       "      <td>11.003045</td>\n",
       "      <td>328.098227</td>\n",
       "      <td>1.587955</td>\n",
       "      <td>7.451432</td>\n",
       "      <td>0.710000</td>\n",
       "      <td>0.0</td>\n",
       "      <td>...</td>\n",
       "      <td>0.710000</td>\n",
       "      <td>0.000000e+00</td>\n",
       "      <td>0.000000</td>\n",
       "      <td>0.000000</td>\n",
       "      <td>0.000000</td>\n",
       "      <td>0.0</td>\n",
       "      <td>0.000000</td>\n",
       "      <td>0.000000</td>\n",
       "      <td>0.000000</td>\n",
       "      <td>0.00000</td>\n",
       "    </tr>\n",
       "    <tr>\n",
       "      <td>16</td>\n",
       "      <td>16</td>\n",
       "      <td>-0.049591</td>\n",
       "      <td>-0.003386</td>\n",
       "      <td>85.272727</td>\n",
       "      <td>11.179682</td>\n",
       "      <td>348.205182</td>\n",
       "      <td>1.536341</td>\n",
       "      <td>6.954045</td>\n",
       "      <td>0.710000</td>\n",
       "      <td>0.0</td>\n",
       "      <td>...</td>\n",
       "      <td>0.710000</td>\n",
       "      <td>0.000000e+00</td>\n",
       "      <td>0.000000</td>\n",
       "      <td>0.000000</td>\n",
       "      <td>0.000000</td>\n",
       "      <td>0.0</td>\n",
       "      <td>0.000000</td>\n",
       "      <td>0.000000</td>\n",
       "      <td>0.000000</td>\n",
       "      <td>0.00000</td>\n",
       "    </tr>\n",
       "    <tr>\n",
       "      <td>17</td>\n",
       "      <td>17</td>\n",
       "      <td>-0.026364</td>\n",
       "      <td>-0.002250</td>\n",
       "      <td>85.136364</td>\n",
       "      <td>11.248682</td>\n",
       "      <td>367.956000</td>\n",
       "      <td>1.490568</td>\n",
       "      <td>6.540455</td>\n",
       "      <td>0.710000</td>\n",
       "      <td>0.0</td>\n",
       "      <td>...</td>\n",
       "      <td>0.710000</td>\n",
       "      <td>0.000000e+00</td>\n",
       "      <td>0.000000</td>\n",
       "      <td>0.000000</td>\n",
       "      <td>0.000000</td>\n",
       "      <td>0.0</td>\n",
       "      <td>0.000000</td>\n",
       "      <td>0.000000</td>\n",
       "      <td>0.000000</td>\n",
       "      <td>0.00000</td>\n",
       "    </tr>\n",
       "    <tr>\n",
       "      <td>18</td>\n",
       "      <td>18</td>\n",
       "      <td>-0.045455</td>\n",
       "      <td>-0.004659</td>\n",
       "      <td>84.750000</td>\n",
       "      <td>11.338773</td>\n",
       "      <td>388.016227</td>\n",
       "      <td>1.447364</td>\n",
       "      <td>6.197636</td>\n",
       "      <td>0.710000</td>\n",
       "      <td>0.0</td>\n",
       "      <td>...</td>\n",
       "      <td>0.710000</td>\n",
       "      <td>0.000000e+00</td>\n",
       "      <td>0.000000</td>\n",
       "      <td>0.000000</td>\n",
       "      <td>0.000000</td>\n",
       "      <td>0.0</td>\n",
       "      <td>0.000000</td>\n",
       "      <td>0.000000</td>\n",
       "      <td>0.000000</td>\n",
       "      <td>0.00000</td>\n",
       "    </tr>\n",
       "    <tr>\n",
       "      <td>19</td>\n",
       "      <td>19</td>\n",
       "      <td>-0.048182</td>\n",
       "      <td>-0.004068</td>\n",
       "      <td>84.954545</td>\n",
       "      <td>11.283727</td>\n",
       "      <td>408.488341</td>\n",
       "      <td>1.409273</td>\n",
       "      <td>5.919045</td>\n",
       "      <td>0.710000</td>\n",
       "      <td>0.0</td>\n",
       "      <td>...</td>\n",
       "      <td>0.710000</td>\n",
       "      <td>0.000000e+00</td>\n",
       "      <td>0.000000</td>\n",
       "      <td>0.000000</td>\n",
       "      <td>0.000000</td>\n",
       "      <td>0.0</td>\n",
       "      <td>0.000000</td>\n",
       "      <td>0.000000</td>\n",
       "      <td>0.000000</td>\n",
       "      <td>0.00000</td>\n",
       "    </tr>\n",
       "  </tbody>\n",
       "</table>\n",
       "<p>20 rows × 24 columns</p>\n",
       "</div>"
      ],
      "text/plain": [
       "    index       ECG       EMG         HR       RESP     Seconds   footGSR  \\\n",
       "0       0 -0.001974 -0.004737  77.815789  10.801842   12.529684  2.417132   \n",
       "1       1  0.002935 -0.004457  79.521739  10.750609   30.503500  2.417109   \n",
       "2       2  0.006745 -0.003426  87.319149  10.557234   52.523021  2.226872   \n",
       "3       3 -0.004043 -0.002532  87.702128  10.640128   74.402170  2.173021   \n",
       "4       4  0.012745 -0.004426  87.702128  10.699319   96.219617  2.017106   \n",
       "5       5  0.027787 -0.004957  87.702128  10.744000  117.803638  2.147362   \n",
       "6       6 -0.010851 -0.004681  87.702128  10.821277  138.888064  2.277298   \n",
       "7       7 -0.005217 -0.004130  87.702128  11.113217  159.908717  2.313348   \n",
       "8       8 -0.019386 -0.003727  87.319149  10.937545  181.149523  2.273705   \n",
       "9       9 -0.065409 -0.002409  86.909091  11.204727  201.824091  2.090182   \n",
       "10     10 -0.000977 -0.003045  86.613636  11.311909  222.365136  1.956545   \n",
       "11     11 -0.003727 -0.004068  86.500000  10.967727  243.277136  1.861091   \n",
       "12     12  0.018227 -0.003364  86.295455  10.757591  265.347477  1.780273   \n",
       "13     13 -0.005114 -0.004273  86.272727  10.232591  286.365114  1.711477   \n",
       "14     14 -0.004295 -0.005682  86.272727  10.333227  306.881250  1.648500   \n",
       "15     15 -0.005773 -0.004136  85.272727  11.003045  328.098227  1.587955   \n",
       "16     16 -0.049591 -0.003386  85.272727  11.179682  348.205182  1.536341   \n",
       "17     17 -0.026364 -0.002250  85.136364  11.248682  367.956000  1.490568   \n",
       "18     18 -0.045455 -0.004659  84.750000  11.338773  388.016227  1.447364   \n",
       "19     19 -0.048182 -0.004068  84.954545  11.283727  408.488341  1.409273   \n",
       "\n",
       "      handGSR  interval in seconds  marker  ...      AVNN          SDNN  \\\n",
       "0   10.889447             0.614632     0.0  ...  0.617297  3.558630e-02   \n",
       "1   11.251065             0.647826     0.0  ...  0.647889  1.354660e-02   \n",
       "2   11.379638             0.646383     0.0  ...  0.645000  2.240000e-08   \n",
       "3   11.470830             0.645000     0.0  ...  0.645000  2.240000e-08   \n",
       "4   11.135255             0.645000     0.0  ...  0.645000  2.240000e-08   \n",
       "5   12.202340             0.645000     0.0  ...  0.645000  2.240000e-08   \n",
       "6   13.075745             0.645000     0.0  ...  0.645000  2.240000e-08   \n",
       "7   13.828065             0.654891     0.0  ...  0.655111  2.382440e-02   \n",
       "8   13.609318             0.698182     0.0  ...  0.699419  2.428030e-02   \n",
       "9   12.408636             0.710000     0.0  ...  0.710000  0.000000e+00   \n",
       "10  11.330386             0.710000     0.0  ...  0.710000  0.000000e+00   \n",
       "11  10.324932             0.710000     0.0  ...  0.710000  0.000000e+00   \n",
       "12   9.395659             0.699659     0.0  ...  0.699419  2.428030e-02   \n",
       "13   8.681909             0.710000     0.0  ...  0.710000  0.000000e+00   \n",
       "14   8.055864             0.710000     0.0  ...  0.710000  0.000000e+00   \n",
       "15   7.451432             0.710000     0.0  ...  0.710000  0.000000e+00   \n",
       "16   6.954045             0.710000     0.0  ...  0.710000  0.000000e+00   \n",
       "17   6.540455             0.710000     0.0  ...  0.710000  0.000000e+00   \n",
       "18   6.197636             0.710000     0.0  ...  0.710000  0.000000e+00   \n",
       "19   5.919045             0.710000     0.0  ...  0.710000  0.000000e+00   \n",
       "\n",
       "       RMSSD     pNN50        TP  ULF       VLF        LF        HF    LF_HF  \n",
       "0   0.015203  0.055556  0.001238  0.0  0.000696  0.000407  0.000135  3.00200  \n",
       "1   0.013858  0.045455  0.000144  0.0  0.000009  0.000060  0.000075  0.79371  \n",
       "2   0.000000  0.000000  0.000000  0.0  0.000000  0.000000  0.000000  0.00000  \n",
       "3   0.000000  0.000000  0.000000  0.0  0.000000  0.000000  0.000000  0.00000  \n",
       "4   0.000000  0.000000  0.000000  0.0  0.000000  0.000000  0.000000  0.00000  \n",
       "5   0.000000  0.000000  0.000000  0.0  0.000000  0.000000  0.000000  0.00000  \n",
       "6   0.000000  0.000000  0.000000  0.0  0.000000  0.000000  0.000000  0.00000  \n",
       "7   0.009799  0.022727  0.000548  0.0  0.000223  0.000292  0.000033  8.79347  \n",
       "8   0.010030  0.023810  0.000538  0.0  0.000237  0.000271  0.000030  9.11724  \n",
       "9   0.000000  0.000000  0.000000  0.0  0.000000  0.000000  0.000000  0.00000  \n",
       "10  0.000000  0.000000  0.000000  0.0  0.000000  0.000000  0.000000  0.00000  \n",
       "11  0.000000  0.000000  0.000000  0.0  0.000000  0.000000  0.000000  0.00000  \n",
       "12  0.020059  0.095238  0.000517  0.0  0.000150  0.000290  0.000077  3.78234  \n",
       "13  0.000000  0.000000  0.000000  0.0  0.000000  0.000000  0.000000  0.00000  \n",
       "14  0.000000  0.000000  0.000000  0.0  0.000000  0.000000  0.000000  0.00000  \n",
       "15  0.000000  0.000000  0.000000  0.0  0.000000  0.000000  0.000000  0.00000  \n",
       "16  0.000000  0.000000  0.000000  0.0  0.000000  0.000000  0.000000  0.00000  \n",
       "17  0.000000  0.000000  0.000000  0.0  0.000000  0.000000  0.000000  0.00000  \n",
       "18  0.000000  0.000000  0.000000  0.0  0.000000  0.000000  0.000000  0.00000  \n",
       "19  0.000000  0.000000  0.000000  0.0  0.000000  0.000000  0.000000  0.00000  \n",
       "\n",
       "[20 rows x 24 columns]"
      ]
     },
     "execution_count": 12,
     "metadata": {},
     "output_type": "execute_result"
    }
   ],
   "source": [
    "df_final.head(20)"
   ]
  },
  {
   "cell_type": "code",
   "execution_count": 257,
   "metadata": {},
   "outputs": [
    {
     "data": {
      "text/plain": [
       "(4129, 24)"
      ]
     },
     "execution_count": 257,
     "metadata": {},
     "output_type": "execute_result"
    }
   ],
   "source": [
    "df_final.shape"
   ]
  },
  {
   "cell_type": "markdown",
   "metadata": {},
   "source": [
    "### Feature selection"
   ]
  },
  {
   "cell_type": "code",
   "execution_count": 24,
   "metadata": {},
   "outputs": [],
   "source": [
    "selected_x_columns = ['HR','interval in seconds','AVNN', 'RMSSD', 'pNN50', 'TP', 'ULF']\n",
    "\n",
    "X = df_final[selected_x_columns]\n",
    "y = df_final['stress']"
   ]
  },
  {
   "cell_type": "markdown",
   "metadata": {},
   "source": [
    "### Splitting the dataset"
   ]
  },
  {
   "cell_type": "code",
   "execution_count": 25,
   "metadata": {},
   "outputs": [],
   "source": [
    "X_train, X_test, y_train, y_test = train_test_split(X,y, test_size = 0.2, random_state = 0)"
   ]
  },
  {
   "cell_type": "code",
   "execution_count": 26,
   "metadata": {},
   "outputs": [
    {
     "data": {
      "text/html": [
       "<div>\n",
       "<style scoped>\n",
       "    .dataframe tbody tr th:only-of-type {\n",
       "        vertical-align: middle;\n",
       "    }\n",
       "\n",
       "    .dataframe tbody tr th {\n",
       "        vertical-align: top;\n",
       "    }\n",
       "\n",
       "    .dataframe thead th {\n",
       "        text-align: right;\n",
       "    }\n",
       "</style>\n",
       "<table border=\"1\" class=\"dataframe\">\n",
       "  <thead>\n",
       "    <tr style=\"text-align: right;\">\n",
       "      <th></th>\n",
       "      <th>HR</th>\n",
       "      <th>interval in seconds</th>\n",
       "      <th>AVNN</th>\n",
       "      <th>RMSSD</th>\n",
       "      <th>pNN50</th>\n",
       "      <th>TP</th>\n",
       "      <th>ULF</th>\n",
       "    </tr>\n",
       "  </thead>\n",
       "  <tbody>\n",
       "    <tr>\n",
       "      <td>3114</td>\n",
       "      <td>103.260000</td>\n",
       "      <td>0.588700</td>\n",
       "      <td>0.588857</td>\n",
       "      <td>0.013166</td>\n",
       "      <td>0.041667</td>\n",
       "      <td>0.009344</td>\n",
       "      <td>0.009344</td>\n",
       "    </tr>\n",
       "    <tr>\n",
       "      <td>1641</td>\n",
       "      <td>78.756098</td>\n",
       "      <td>0.758268</td>\n",
       "      <td>0.757875</td>\n",
       "      <td>0.020657</td>\n",
       "      <td>0.025641</td>\n",
       "      <td>0.026373</td>\n",
       "      <td>0.026373</td>\n",
       "    </tr>\n",
       "    <tr>\n",
       "      <td>388</td>\n",
       "      <td>75.593750</td>\n",
       "      <td>0.814128</td>\n",
       "      <td>0.813474</td>\n",
       "      <td>0.031893</td>\n",
       "      <td>0.027027</td>\n",
       "      <td>0.056850</td>\n",
       "      <td>0.048530</td>\n",
       "    </tr>\n",
       "    <tr>\n",
       "      <td>2383</td>\n",
       "      <td>87.756098</td>\n",
       "      <td>0.668111</td>\n",
       "      <td>0.668636</td>\n",
       "      <td>0.014018</td>\n",
       "      <td>0.046512</td>\n",
       "      <td>0.006020</td>\n",
       "      <td>0.006020</td>\n",
       "    </tr>\n",
       "    <tr>\n",
       "      <td>273</td>\n",
       "      <td>73.070846</td>\n",
       "      <td>0.814128</td>\n",
       "      <td>0.813474</td>\n",
       "      <td>0.031893</td>\n",
       "      <td>0.027027</td>\n",
       "      <td>0.055798</td>\n",
       "      <td>0.043164</td>\n",
       "    </tr>\n",
       "    <tr>\n",
       "      <td>756</td>\n",
       "      <td>84.926829</td>\n",
       "      <td>0.763024</td>\n",
       "      <td>0.762750</td>\n",
       "      <td>0.023131</td>\n",
       "      <td>0.051282</td>\n",
       "      <td>0.012480</td>\n",
       "      <td>0.012480</td>\n",
       "    </tr>\n",
       "    <tr>\n",
       "      <td>3560</td>\n",
       "      <td>72.722222</td>\n",
       "      <td>0.923139</td>\n",
       "      <td>0.921857</td>\n",
       "      <td>0.055394</td>\n",
       "      <td>0.029412</td>\n",
       "      <td>0.167114</td>\n",
       "      <td>0.167114</td>\n",
       "    </tr>\n",
       "    <tr>\n",
       "      <td>3622</td>\n",
       "      <td>72.567568</td>\n",
       "      <td>0.923139</td>\n",
       "      <td>0.921857</td>\n",
       "      <td>0.055394</td>\n",
       "      <td>0.029412</td>\n",
       "      <td>0.166347</td>\n",
       "      <td>0.166347</td>\n",
       "    </tr>\n",
       "    <tr>\n",
       "      <td>1925</td>\n",
       "      <td>72.947368</td>\n",
       "      <td>0.877605</td>\n",
       "      <td>0.876919</td>\n",
       "      <td>0.032167</td>\n",
       "      <td>0.027778</td>\n",
       "      <td>0.059628</td>\n",
       "      <td>0.059628</td>\n",
       "    </tr>\n",
       "    <tr>\n",
       "      <td>3125</td>\n",
       "      <td>103.860000</td>\n",
       "      <td>0.593900</td>\n",
       "      <td>0.594163</td>\n",
       "      <td>0.018620</td>\n",
       "      <td>0.020833</td>\n",
       "      <td>0.026106</td>\n",
       "      <td>0.026106</td>\n",
       "    </tr>\n",
       "    <tr>\n",
       "      <td>1956</td>\n",
       "      <td>73.394737</td>\n",
       "      <td>0.869053</td>\n",
       "      <td>0.868135</td>\n",
       "      <td>0.043000</td>\n",
       "      <td>0.027778</td>\n",
       "      <td>0.101922</td>\n",
       "      <td>0.101922</td>\n",
       "    </tr>\n",
       "    <tr>\n",
       "      <td>4091</td>\n",
       "      <td>72.230769</td>\n",
       "      <td>0.822462</td>\n",
       "      <td>0.822026</td>\n",
       "      <td>0.021207</td>\n",
       "      <td>0.027027</td>\n",
       "      <td>0.026390</td>\n",
       "      <td>0.026390</td>\n",
       "    </tr>\n",
       "    <tr>\n",
       "      <td>2176</td>\n",
       "      <td>73.564103</td>\n",
       "      <td>0.830538</td>\n",
       "      <td>0.830316</td>\n",
       "      <td>0.043700</td>\n",
       "      <td>0.054054</td>\n",
       "      <td>0.071678</td>\n",
       "      <td>0.071678</td>\n",
       "    </tr>\n",
       "    <tr>\n",
       "      <td>802</td>\n",
       "      <td>79.000000</td>\n",
       "      <td>0.800125</td>\n",
       "      <td>0.799128</td>\n",
       "      <td>0.014798</td>\n",
       "      <td>0.052632</td>\n",
       "      <td>0.021636</td>\n",
       "      <td>0.021636</td>\n",
       "    </tr>\n",
       "    <tr>\n",
       "      <td>2076</td>\n",
       "      <td>61.513286</td>\n",
       "      <td>1.013571</td>\n",
       "      <td>1.013030</td>\n",
       "      <td>0.022456</td>\n",
       "      <td>0.030303</td>\n",
       "      <td>0.026674</td>\n",
       "      <td>0.026674</td>\n",
       "    </tr>\n",
       "    <tr>\n",
       "      <td>1207</td>\n",
       "      <td>72.178564</td>\n",
       "      <td>0.894579</td>\n",
       "      <td>0.894351</td>\n",
       "      <td>0.010667</td>\n",
       "      <td>0.027778</td>\n",
       "      <td>0.006486</td>\n",
       "      <td>0.006486</td>\n",
       "    </tr>\n",
       "    <tr>\n",
       "      <td>2930</td>\n",
       "      <td>89.236842</td>\n",
       "      <td>0.923139</td>\n",
       "      <td>0.921857</td>\n",
       "      <td>0.055394</td>\n",
       "      <td>0.029412</td>\n",
       "      <td>0.167335</td>\n",
       "      <td>0.167335</td>\n",
       "    </tr>\n",
       "    <tr>\n",
       "      <td>3531</td>\n",
       "      <td>70.593000</td>\n",
       "      <td>0.724659</td>\n",
       "      <td>0.725000</td>\n",
       "      <td>0.019905</td>\n",
       "      <td>0.023810</td>\n",
       "      <td>0.026470</td>\n",
       "      <td>0.026470</td>\n",
       "    </tr>\n",
       "    <tr>\n",
       "      <td>2723</td>\n",
       "      <td>73.000000</td>\n",
       "      <td>0.869053</td>\n",
       "      <td>0.868135</td>\n",
       "      <td>0.043000</td>\n",
       "      <td>0.027778</td>\n",
       "      <td>0.107054</td>\n",
       "      <td>0.107054</td>\n",
       "    </tr>\n",
       "    <tr>\n",
       "      <td>151</td>\n",
       "      <td>96.340426</td>\n",
       "      <td>0.645000</td>\n",
       "      <td>0.645000</td>\n",
       "      <td>0.000000</td>\n",
       "      <td>0.000000</td>\n",
       "      <td>0.000000</td>\n",
       "      <td>0.000000</td>\n",
       "    </tr>\n",
       "    <tr>\n",
       "      <td>2292</td>\n",
       "      <td>78.948718</td>\n",
       "      <td>0.822462</td>\n",
       "      <td>0.822026</td>\n",
       "      <td>0.021207</td>\n",
       "      <td>0.027027</td>\n",
       "      <td>0.027102</td>\n",
       "      <td>0.027102</td>\n",
       "    </tr>\n",
       "    <tr>\n",
       "      <td>714</td>\n",
       "      <td>71.842105</td>\n",
       "      <td>0.924944</td>\n",
       "      <td>0.925571</td>\n",
       "      <td>0.045629</td>\n",
       "      <td>0.058824</td>\n",
       "      <td>0.100317</td>\n",
       "      <td>0.100317</td>\n",
       "    </tr>\n",
       "    <tr>\n",
       "      <td>544</td>\n",
       "      <td>84.600000</td>\n",
       "      <td>0.758268</td>\n",
       "      <td>0.757875</td>\n",
       "      <td>0.020657</td>\n",
       "      <td>0.025641</td>\n",
       "      <td>0.026003</td>\n",
       "      <td>0.026003</td>\n",
       "    </tr>\n",
       "    <tr>\n",
       "      <td>2745</td>\n",
       "      <td>76.131579</td>\n",
       "      <td>0.845605</td>\n",
       "      <td>0.845784</td>\n",
       "      <td>0.033889</td>\n",
       "      <td>0.055556</td>\n",
       "      <td>0.042270</td>\n",
       "      <td>0.042270</td>\n",
       "    </tr>\n",
       "    <tr>\n",
       "      <td>3337</td>\n",
       "      <td>86.400000</td>\n",
       "      <td>0.710000</td>\n",
       "      <td>0.710000</td>\n",
       "      <td>0.000000</td>\n",
       "      <td>0.000000</td>\n",
       "      <td>0.000000</td>\n",
       "      <td>0.000000</td>\n",
       "    </tr>\n",
       "    <tr>\n",
       "      <td>423</td>\n",
       "      <td>72.122231</td>\n",
       "      <td>0.822462</td>\n",
       "      <td>0.822026</td>\n",
       "      <td>0.021207</td>\n",
       "      <td>0.027027</td>\n",
       "      <td>0.025634</td>\n",
       "      <td>0.022259</td>\n",
       "    </tr>\n",
       "    <tr>\n",
       "      <td>3219</td>\n",
       "      <td>94.063830</td>\n",
       "      <td>0.651915</td>\n",
       "      <td>0.652065</td>\n",
       "      <td>0.009690</td>\n",
       "      <td>0.022222</td>\n",
       "      <td>0.006676</td>\n",
       "      <td>0.006676</td>\n",
       "    </tr>\n",
       "    <tr>\n",
       "      <td>659</td>\n",
       "      <td>66.993200</td>\n",
       "      <td>0.810125</td>\n",
       "      <td>0.810231</td>\n",
       "      <td>0.005353</td>\n",
       "      <td>0.000000</td>\n",
       "      <td>0.001715</td>\n",
       "      <td>0.001715</td>\n",
       "    </tr>\n",
       "    <tr>\n",
       "      <td>797</td>\n",
       "      <td>79.000000</td>\n",
       "      <td>0.758268</td>\n",
       "      <td>0.757875</td>\n",
       "      <td>0.020657</td>\n",
       "      <td>0.025641</td>\n",
       "      <td>0.026207</td>\n",
       "      <td>0.026207</td>\n",
       "    </tr>\n",
       "    <tr>\n",
       "      <td>755</td>\n",
       "      <td>84.926829</td>\n",
       "      <td>0.758268</td>\n",
       "      <td>0.757875</td>\n",
       "      <td>0.020657</td>\n",
       "      <td>0.025641</td>\n",
       "      <td>0.027206</td>\n",
       "      <td>0.027206</td>\n",
       "    </tr>\n",
       "    <tr>\n",
       "      <td>2008</td>\n",
       "      <td>74.315789</td>\n",
       "      <td>0.869053</td>\n",
       "      <td>0.868135</td>\n",
       "      <td>0.043000</td>\n",
       "      <td>0.027778</td>\n",
       "      <td>0.109500</td>\n",
       "      <td>0.109500</td>\n",
       "    </tr>\n",
       "    <tr>\n",
       "      <td>99</td>\n",
       "      <td>97.888889</td>\n",
       "      <td>0.654891</td>\n",
       "      <td>0.655111</td>\n",
       "      <td>0.009799</td>\n",
       "      <td>0.022727</td>\n",
       "      <td>0.000581</td>\n",
       "      <td>0.000000</td>\n",
       "    </tr>\n",
       "    <tr>\n",
       "      <td>2496</td>\n",
       "      <td>87.863636</td>\n",
       "      <td>0.702614</td>\n",
       "      <td>0.702442</td>\n",
       "      <td>0.010030</td>\n",
       "      <td>0.023810</td>\n",
       "      <td>0.006761</td>\n",
       "      <td>0.006761</td>\n",
       "    </tr>\n",
       "    <tr>\n",
       "      <td>1871</td>\n",
       "      <td>71.333333</td>\n",
       "      <td>0.814128</td>\n",
       "      <td>0.813474</td>\n",
       "      <td>0.031893</td>\n",
       "      <td>0.027027</td>\n",
       "      <td>0.059750</td>\n",
       "      <td>0.059750</td>\n",
       "    </tr>\n",
       "    <tr>\n",
       "      <td>2046</td>\n",
       "      <td>68.114286</td>\n",
       "      <td>0.949429</td>\n",
       "      <td>0.948882</td>\n",
       "      <td>0.059282</td>\n",
       "      <td>0.121212</td>\n",
       "      <td>0.125478</td>\n",
       "      <td>0.125478</td>\n",
       "    </tr>\n",
       "    <tr>\n",
       "      <td>2163</td>\n",
       "      <td>71.500000</td>\n",
       "      <td>0.869053</td>\n",
       "      <td>0.868135</td>\n",
       "      <td>0.043000</td>\n",
       "      <td>0.027778</td>\n",
       "      <td>0.105629</td>\n",
       "      <td>0.105629</td>\n",
       "    </tr>\n",
       "    <tr>\n",
       "      <td>2893</td>\n",
       "      <td>85.382353</td>\n",
       "      <td>0.986000</td>\n",
       "      <td>0.984647</td>\n",
       "      <td>0.056053</td>\n",
       "      <td>0.030303</td>\n",
       "      <td>0.165358</td>\n",
       "      <td>0.165358</td>\n",
       "    </tr>\n",
       "    <tr>\n",
       "      <td>537</td>\n",
       "      <td>91.200000</td>\n",
       "      <td>0.752548</td>\n",
       "      <td>0.752024</td>\n",
       "      <td>0.016150</td>\n",
       "      <td>0.025000</td>\n",
       "      <td>0.024006</td>\n",
       "      <td>0.024006</td>\n",
       "    </tr>\n",
       "    <tr>\n",
       "      <td>1701</td>\n",
       "      <td>74.121951</td>\n",
       "      <td>0.822462</td>\n",
       "      <td>0.822026</td>\n",
       "      <td>0.021207</td>\n",
       "      <td>0.027027</td>\n",
       "      <td>0.026340</td>\n",
       "      <td>0.026340</td>\n",
       "    </tr>\n",
       "    <tr>\n",
       "      <td>2897</td>\n",
       "      <td>85.382353</td>\n",
       "      <td>1.022882</td>\n",
       "      <td>1.022610</td>\n",
       "      <td>0.080725</td>\n",
       "      <td>0.062500</td>\n",
       "      <td>0.314886</td>\n",
       "      <td>0.314886</td>\n",
       "    </tr>\n",
       "    <tr>\n",
       "      <td>2222</td>\n",
       "      <td>73.973684</td>\n",
       "      <td>0.814128</td>\n",
       "      <td>0.813474</td>\n",
       "      <td>0.031893</td>\n",
       "      <td>0.027027</td>\n",
       "      <td>0.059228</td>\n",
       "      <td>0.059228</td>\n",
       "    </tr>\n",
       "    <tr>\n",
       "      <td>2135</td>\n",
       "      <td>78.538462</td>\n",
       "      <td>0.814128</td>\n",
       "      <td>0.813474</td>\n",
       "      <td>0.031893</td>\n",
       "      <td>0.027027</td>\n",
       "      <td>0.061075</td>\n",
       "      <td>0.061075</td>\n",
       "    </tr>\n",
       "    <tr>\n",
       "      <td>2599</td>\n",
       "      <td>65.416667</td>\n",
       "      <td>0.935722</td>\n",
       "      <td>0.934800</td>\n",
       "      <td>0.046890</td>\n",
       "      <td>0.088235</td>\n",
       "      <td>0.110890</td>\n",
       "      <td>0.110890</td>\n",
       "    </tr>\n",
       "    <tr>\n",
       "      <td>705</td>\n",
       "      <td>70.108108</td>\n",
       "      <td>0.869053</td>\n",
       "      <td>0.868135</td>\n",
       "      <td>0.043000</td>\n",
       "      <td>0.027778</td>\n",
       "      <td>0.105452</td>\n",
       "      <td>0.105452</td>\n",
       "    </tr>\n",
       "    <tr>\n",
       "      <td>3468</td>\n",
       "      <td>83.800000</td>\n",
       "      <td>0.651915</td>\n",
       "      <td>0.652065</td>\n",
       "      <td>0.009690</td>\n",
       "      <td>0.022222</td>\n",
       "      <td>0.006656</td>\n",
       "      <td>0.006656</td>\n",
       "    </tr>\n",
       "    <tr>\n",
       "      <td>1033</td>\n",
       "      <td>88.243902</td>\n",
       "      <td>0.766195</td>\n",
       "      <td>0.766000</td>\n",
       "      <td>0.010248</td>\n",
       "      <td>0.025641</td>\n",
       "      <td>0.006355</td>\n",
       "      <td>0.006355</td>\n",
       "    </tr>\n",
       "    <tr>\n",
       "      <td>3264</td>\n",
       "      <td>86.908432</td>\n",
       "      <td>0.727500</td>\n",
       "      <td>0.729419</td>\n",
       "      <td>0.041054</td>\n",
       "      <td>0.047619</td>\n",
       "      <td>0.119792</td>\n",
       "      <td>0.119792</td>\n",
       "    </tr>\n",
       "    <tr>\n",
       "      <td>1653</td>\n",
       "      <td>76.414634</td>\n",
       "      <td>0.766195</td>\n",
       "      <td>0.766000</td>\n",
       "      <td>0.010248</td>\n",
       "      <td>0.025641</td>\n",
       "      <td>0.006681</td>\n",
       "      <td>0.006681</td>\n",
       "    </tr>\n",
       "    <tr>\n",
       "      <td>2607</td>\n",
       "      <td>63.257143</td>\n",
       "      <td>0.932167</td>\n",
       "      <td>0.931143</td>\n",
       "      <td>0.044247</td>\n",
       "      <td>0.029412</td>\n",
       "      <td>0.106765</td>\n",
       "      <td>0.106765</td>\n",
       "    </tr>\n",
       "    <tr>\n",
       "      <td>2732</td>\n",
       "      <td>70.894737</td>\n",
       "      <td>0.897861</td>\n",
       "      <td>0.897714</td>\n",
       "      <td>0.056505</td>\n",
       "      <td>0.058824</td>\n",
       "      <td>0.140624</td>\n",
       "      <td>0.140624</td>\n",
       "    </tr>\n",
       "  </tbody>\n",
       "</table>\n",
       "</div>"
      ],
      "text/plain": [
       "              HR  interval in seconds      AVNN     RMSSD     pNN50        TP  \\\n",
       "3114  103.260000             0.588700  0.588857  0.013166  0.041667  0.009344   \n",
       "1641   78.756098             0.758268  0.757875  0.020657  0.025641  0.026373   \n",
       "388    75.593750             0.814128  0.813474  0.031893  0.027027  0.056850   \n",
       "2383   87.756098             0.668111  0.668636  0.014018  0.046512  0.006020   \n",
       "273    73.070846             0.814128  0.813474  0.031893  0.027027  0.055798   \n",
       "756    84.926829             0.763024  0.762750  0.023131  0.051282  0.012480   \n",
       "3560   72.722222             0.923139  0.921857  0.055394  0.029412  0.167114   \n",
       "3622   72.567568             0.923139  0.921857  0.055394  0.029412  0.166347   \n",
       "1925   72.947368             0.877605  0.876919  0.032167  0.027778  0.059628   \n",
       "3125  103.860000             0.593900  0.594163  0.018620  0.020833  0.026106   \n",
       "1956   73.394737             0.869053  0.868135  0.043000  0.027778  0.101922   \n",
       "4091   72.230769             0.822462  0.822026  0.021207  0.027027  0.026390   \n",
       "2176   73.564103             0.830538  0.830316  0.043700  0.054054  0.071678   \n",
       "802    79.000000             0.800125  0.799128  0.014798  0.052632  0.021636   \n",
       "2076   61.513286             1.013571  1.013030  0.022456  0.030303  0.026674   \n",
       "1207   72.178564             0.894579  0.894351  0.010667  0.027778  0.006486   \n",
       "2930   89.236842             0.923139  0.921857  0.055394  0.029412  0.167335   \n",
       "3531   70.593000             0.724659  0.725000  0.019905  0.023810  0.026470   \n",
       "2723   73.000000             0.869053  0.868135  0.043000  0.027778  0.107054   \n",
       "151    96.340426             0.645000  0.645000  0.000000  0.000000  0.000000   \n",
       "2292   78.948718             0.822462  0.822026  0.021207  0.027027  0.027102   \n",
       "714    71.842105             0.924944  0.925571  0.045629  0.058824  0.100317   \n",
       "544    84.600000             0.758268  0.757875  0.020657  0.025641  0.026003   \n",
       "2745   76.131579             0.845605  0.845784  0.033889  0.055556  0.042270   \n",
       "3337   86.400000             0.710000  0.710000  0.000000  0.000000  0.000000   \n",
       "423    72.122231             0.822462  0.822026  0.021207  0.027027  0.025634   \n",
       "3219   94.063830             0.651915  0.652065  0.009690  0.022222  0.006676   \n",
       "659    66.993200             0.810125  0.810231  0.005353  0.000000  0.001715   \n",
       "797    79.000000             0.758268  0.757875  0.020657  0.025641  0.026207   \n",
       "755    84.926829             0.758268  0.757875  0.020657  0.025641  0.027206   \n",
       "2008   74.315789             0.869053  0.868135  0.043000  0.027778  0.109500   \n",
       "99     97.888889             0.654891  0.655111  0.009799  0.022727  0.000581   \n",
       "2496   87.863636             0.702614  0.702442  0.010030  0.023810  0.006761   \n",
       "1871   71.333333             0.814128  0.813474  0.031893  0.027027  0.059750   \n",
       "2046   68.114286             0.949429  0.948882  0.059282  0.121212  0.125478   \n",
       "2163   71.500000             0.869053  0.868135  0.043000  0.027778  0.105629   \n",
       "2893   85.382353             0.986000  0.984647  0.056053  0.030303  0.165358   \n",
       "537    91.200000             0.752548  0.752024  0.016150  0.025000  0.024006   \n",
       "1701   74.121951             0.822462  0.822026  0.021207  0.027027  0.026340   \n",
       "2897   85.382353             1.022882  1.022610  0.080725  0.062500  0.314886   \n",
       "2222   73.973684             0.814128  0.813474  0.031893  0.027027  0.059228   \n",
       "2135   78.538462             0.814128  0.813474  0.031893  0.027027  0.061075   \n",
       "2599   65.416667             0.935722  0.934800  0.046890  0.088235  0.110890   \n",
       "705    70.108108             0.869053  0.868135  0.043000  0.027778  0.105452   \n",
       "3468   83.800000             0.651915  0.652065  0.009690  0.022222  0.006656   \n",
       "1033   88.243902             0.766195  0.766000  0.010248  0.025641  0.006355   \n",
       "3264   86.908432             0.727500  0.729419  0.041054  0.047619  0.119792   \n",
       "1653   76.414634             0.766195  0.766000  0.010248  0.025641  0.006681   \n",
       "2607   63.257143             0.932167  0.931143  0.044247  0.029412  0.106765   \n",
       "2732   70.894737             0.897861  0.897714  0.056505  0.058824  0.140624   \n",
       "\n",
       "           ULF  \n",
       "3114  0.009344  \n",
       "1641  0.026373  \n",
       "388   0.048530  \n",
       "2383  0.006020  \n",
       "273   0.043164  \n",
       "756   0.012480  \n",
       "3560  0.167114  \n",
       "3622  0.166347  \n",
       "1925  0.059628  \n",
       "3125  0.026106  \n",
       "1956  0.101922  \n",
       "4091  0.026390  \n",
       "2176  0.071678  \n",
       "802   0.021636  \n",
       "2076  0.026674  \n",
       "1207  0.006486  \n",
       "2930  0.167335  \n",
       "3531  0.026470  \n",
       "2723  0.107054  \n",
       "151   0.000000  \n",
       "2292  0.027102  \n",
       "714   0.100317  \n",
       "544   0.026003  \n",
       "2745  0.042270  \n",
       "3337  0.000000  \n",
       "423   0.022259  \n",
       "3219  0.006676  \n",
       "659   0.001715  \n",
       "797   0.026207  \n",
       "755   0.027206  \n",
       "2008  0.109500  \n",
       "99    0.000000  \n",
       "2496  0.006761  \n",
       "1871  0.059750  \n",
       "2046  0.125478  \n",
       "2163  0.105629  \n",
       "2893  0.165358  \n",
       "537   0.024006  \n",
       "1701  0.026340  \n",
       "2897  0.314886  \n",
       "2222  0.059228  \n",
       "2135  0.061075  \n",
       "2599  0.110890  \n",
       "705   0.105452  \n",
       "3468  0.006656  \n",
       "1033  0.006355  \n",
       "3264  0.119792  \n",
       "1653  0.006681  \n",
       "2607  0.106765  \n",
       "2732  0.140624  "
      ]
     },
     "execution_count": 26,
     "metadata": {},
     "output_type": "execute_result"
    }
   ],
   "source": [
    "X_train.tail(50)"
   ]
  },
  {
   "cell_type": "code",
   "execution_count": 259,
   "metadata": {},
   "outputs": [
    {
     "data": {
      "text/plain": [
       "(3303, 7)"
      ]
     },
     "execution_count": 259,
     "metadata": {},
     "output_type": "execute_result"
    }
   ],
   "source": [
    "X_train.shape"
   ]
  },
  {
   "cell_type": "code",
   "execution_count": 27,
   "metadata": {},
   "outputs": [
    {
     "data": {
      "text/plain": [
       "(4129, 7)"
      ]
     },
     "execution_count": 27,
     "metadata": {},
     "output_type": "execute_result"
    }
   ],
   "source": [
    "X.shape"
   ]
  },
  {
   "cell_type": "markdown",
   "metadata": {},
   "source": [
    "### Scaling the data"
   ]
  },
  {
   "cell_type": "code",
   "execution_count": 28,
   "metadata": {},
   "outputs": [],
   "source": [
    "sc_X=StandardScaler()\n",
    "X_train_tf=sc_X.fit_transform(X_train)\n",
    "X_test_tf=sc_X.transform(X_test)"
   ]
  },
  {
   "cell_type": "code",
   "execution_count": 261,
   "metadata": {},
   "outputs": [
    {
     "data": {
      "text/plain": [
       "(3303, 7)"
      ]
     },
     "execution_count": 261,
     "metadata": {},
     "output_type": "execute_result"
    }
   ],
   "source": [
    "X_train_tf.shape"
   ]
  },
  {
   "cell_type": "code",
   "execution_count": 29,
   "metadata": {},
   "outputs": [
    {
     "name": "stdout",
     "output_type": "stream",
     "text": [
      "Accuracy: 0.7445520581113801\n",
      "F1 score: 0.744467789065627\n"
     ]
    }
   ],
   "source": [
    "model=RandomForestClassifier(n_estimators=2500,max_depth=25)\n",
    "model.fit(X_train_tf,y_train)\n",
    "    \n",
    "y_pred=model.predict(X_test_tf)\n",
    "acc=accuracy_score(y_test, y_pred)\n",
    "f1=f1_score(y_test, y_pred, average='macro')\n",
    "print('Accuracy:', acc)  \n",
    "print('F1 score:', f1) "
   ]
  },
  {
   "cell_type": "code",
   "execution_count": 30,
   "metadata": {},
   "outputs": [
    {
     "data": {
      "text/plain": [
       "array([[300, 110],\n",
       "       [101, 315]], dtype=int64)"
      ]
     },
     "execution_count": 30,
     "metadata": {},
     "output_type": "execute_result"
    }
   ],
   "source": [
    "tn, fp, fn, tp=confusion_matrix(y_test,y_pred).ravel()\n",
    "confusion_matrix(y_test,y_pred)"
   ]
  },
  {
   "cell_type": "markdown",
   "metadata": {},
   "source": [
    "### Models evaluation"
   ]
  },
  {
   "cell_type": "markdown",
   "metadata": {},
   "source": [
    "### 1) Logistic Regression"
   ]
  },
  {
   "cell_type": "code",
   "execution_count": 164,
   "metadata": {},
   "outputs": [],
   "source": [
    "model_lr=LogisticRegression(solver='liblinear',max_iter=1000)"
   ]
  },
  {
   "cell_type": "code",
   "execution_count": 244,
   "metadata": {},
   "outputs": [
    {
     "name": "stdout",
     "output_type": "stream",
     "text": [
      "Accuracy: 0.6113801452784504\n",
      "F1 score: 0.6348122866894197\n"
     ]
    },
    {
     "data": {
      "image/png": "[encoded data removed]",
      "text/plain": [
       "<Figure size 432x288 with 1 Axes>"
      ]
     },
     "metadata": {
      "needs_background": "light"
     },
     "output_type": "display_data"
    }
   ],
   "source": [
    "f1_lr=model_eval(model_lr,X_train_tf,X_test_tf,y_train,y_test)"
   ]
  },
  {
   "cell_type": "code",
   "execution_count": 166,
   "metadata": {},
   "outputs": [],
   "source": [
    "params_lr = {\n",
    "    'penalty': ['l1', 'l2'],\n",
    "    'C': [0.0001, 0.001, 0.01, 0.1, 1, 10, 100, 1000],\n",
    "    'class_weight': [{1:0.5, 0:0.5}, {1:0.4, 0:0.6}, {1:0.6, 0:0.4}, {1:0.7, 0:0.3}]\n",
    "   # 'solver': ['liblinear', 'saga']\n",
    "}"
   ]
  },
  {
   "cell_type": "code",
   "execution_count": 167,
   "metadata": {},
   "outputs": [
    {
     "name": "stdout",
     "output_type": "stream",
     "text": [
      "Fitting 3 folds for each of 64 candidates, totalling 192 fits\n"
     ]
    },
    {
     "name": "stderr",
     "output_type": "stream",
     "text": [
      "[Parallel(n_jobs=1)]: Using backend SequentialBackend with 1 concurrent workers.\n",
      "[Parallel(n_jobs=1)]: Done 192 out of 192 | elapsed:    5.8s finished\n"
     ]
    }
   ],
   "source": [
    "bp_lr,score_lr=grid_search(model_lr,params_lr,X_train_tf,y_train)"
   ]
  },
  {
   "cell_type": "code",
   "execution_count": 168,
   "metadata": {},
   "outputs": [
    {
     "name": "stdout",
     "output_type": "stream",
     "text": [
      "{'C': 0.1, 'class_weight': {1: 0.6, 0: 0.4}, 'penalty': 'l2'}\n"
     ]
    }
   ],
   "source": [
    "print(bp_lr)"
   ]
  },
  {
   "cell_type": "code",
   "execution_count": 245,
   "metadata": {},
   "outputs": [
    {
     "name": "stdout",
     "output_type": "stream",
     "text": [
      "Accuracy: 0.6016949152542372\n",
      "F1 score: 0.7080745341614907\n"
     ]
    },
    {
     "data": {
      "image/png": "[encoded data removed]",
      "text/plain": [
       "<Figure size 432x288 with 1 Axes>"
      ]
     },
     "metadata": {
      "needs_background": "light"
     },
     "output_type": "display_data"
    }
   ],
   "source": [
    "model_lr_gs=LogisticRegression(solver='liblinear',C=0.1,penalty='l2',class_weight={1: 0.6, 0: 0.4})\n",
    "f1_lr_gs=model_eval(model_lr_gs,X_train_tf,X_test_tf,y_train,y_test)"
   ]
  },
  {
   "cell_type": "markdown",
   "metadata": {},
   "source": [
    "### 2) KNN"
   ]
  },
  {
   "cell_type": "code",
   "execution_count": 109,
   "metadata": {},
   "outputs": [],
   "source": [
    "model_knn=KNeighborsClassifier()"
   ]
  },
  {
   "cell_type": "code",
   "execution_count": 246,
   "metadata": {},
   "outputs": [
    {
     "name": "stdout",
     "output_type": "stream",
     "text": [
      "Accuracy: 0.7179176755447942\n",
      "F1 score: 0.7300115874855156\n"
     ]
    },
    {
     "data": {
      "image/png": "[encoded data removed]",
      "text/plain": [
       "<Figure size 432x288 with 1 Axes>"
      ]
     },
     "metadata": {
      "needs_background": "light"
     },
     "output_type": "display_data"
    }
   ],
   "source": [
    "f1_knn=model_eval(model_knn,X_train_tf,X_test_tf,y_train,y_test)"
   ]
  },
  {
   "cell_type": "code",
   "execution_count": 173,
   "metadata": {},
   "outputs": [],
   "source": [
    "params_knn = {\n",
    "    'leaf_size' : list(range(1,50,5)),\n",
    "    'n_neighbors': list(range(1,30,2)),\n",
    "    'p' : [1,2]\n",
    "}"
   ]
  },
  {
   "cell_type": "code",
   "execution_count": 174,
   "metadata": {},
   "outputs": [
    {
     "name": "stdout",
     "output_type": "stream",
     "text": [
      "Fitting 3 folds for each of 300 candidates, totalling 900 fits\n"
     ]
    },
    {
     "name": "stderr",
     "output_type": "stream",
     "text": [
      "[Parallel(n_jobs=1)]: Using backend SequentialBackend with 1 concurrent workers.\n",
      "[Parallel(n_jobs=1)]: Done 900 out of 900 | elapsed:  3.4min finished\n"
     ]
    }
   ],
   "source": [
    "bp_knn,score_knn=grid_search(model_knn,params_knn,X_train_tf,y_train)"
   ]
  },
  {
   "cell_type": "code",
   "execution_count": 116,
   "metadata": {},
   "outputs": [
    {
     "name": "stdout",
     "output_type": "stream",
     "text": [
      "{'leaf_size': 21, 'n_neighbors': 1, 'p': 1}\n"
     ]
    }
   ],
   "source": [
    "print(bp_knn)"
   ]
  },
  {
   "cell_type": "code",
   "execution_count": 247,
   "metadata": {},
   "outputs": [
    {
     "name": "stdout",
     "output_type": "stream",
     "text": [
      "Accuracy: 0.7493946731234867\n",
      "F1 score: 0.7478684531059683\n"
     ]
    },
    {
     "data": {
      "image/png": "[encoded data removed]",
      "text/plain": [
       "<Figure size 432x288 with 1 Axes>"
      ]
     },
     "metadata": {
      "needs_background": "light"
     },
     "output_type": "display_data"
    }
   ],
   "source": [
    "model_knn_gs=KNeighborsClassifier(leaf_size=21,p=1,n_neighbors=1)\n",
    "f1_knn_gs=model_eval(model_knn_gs,X_train_tf,X_test_tf,y_train,y_test)"
   ]
  },
  {
   "cell_type": "markdown",
   "metadata": {},
   "source": [
    "### 3) SVM"
   ]
  },
  {
   "cell_type": "code",
   "execution_count": 118,
   "metadata": {},
   "outputs": [],
   "source": [
    "model_svm=svm.SVC(kernel='rbf')"
   ]
  },
  {
   "cell_type": "code",
   "execution_count": 248,
   "metadata": {},
   "outputs": [
    {
     "name": "stdout",
     "output_type": "stream",
     "text": [
      "Accuracy: 0.6610169491525424\n",
      "F1 score: 0.7233201581027667\n"
     ]
    },
    {
     "data": {
      "image/png": "[encoded data removed]",
      "text/plain": [
       "<Figure size 432x288 with 1 Axes>"
      ]
     },
     "metadata": {
      "needs_background": "light"
     },
     "output_type": "display_data"
    }
   ],
   "source": [
    "f1_svm=model_eval(model_svm,X_train_tf,X_test_tf,y_train,y_test)"
   ]
  },
  {
   "cell_type": "code",
   "execution_count": 120,
   "metadata": {},
   "outputs": [],
   "source": [
    "params_svm = {\n",
    "    'C': [0.001, 0.01, 0.1, 1, 10],\n",
    "    'gamma' : [0.001, 0.01, 0.1, 1]\n",
    "}"
   ]
  },
  {
   "cell_type": "code",
   "execution_count": 121,
   "metadata": {},
   "outputs": [
    {
     "name": "stdout",
     "output_type": "stream",
     "text": [
      "Fitting 3 folds for each of 20 candidates, totalling 60 fits\n"
     ]
    },
    {
     "name": "stderr",
     "output_type": "stream",
     "text": [
      "[Parallel(n_jobs=1)]: Using backend SequentialBackend with 1 concurrent workers.\n",
      "[Parallel(n_jobs=1)]: Done  60 out of  60 | elapsed:   28.2s finished\n"
     ]
    }
   ],
   "source": [
    "bp_svm,score_svm=grid_search(model_svm,params_svm,X_train_tf,y_train)"
   ]
  },
  {
   "cell_type": "code",
   "execution_count": 122,
   "metadata": {},
   "outputs": [
    {
     "name": "stdout",
     "output_type": "stream",
     "text": [
      "{'C': 10, 'gamma': 1}\n"
     ]
    }
   ],
   "source": [
    "print(bp_svm)"
   ]
  },
  {
   "cell_type": "code",
   "execution_count": 249,
   "metadata": {},
   "outputs": [
    {
     "name": "stdout",
     "output_type": "stream",
     "text": [
      "Accuracy: 0.6949152542372882\n",
      "F1 score: 0.7324840764331211\n"
     ]
    },
    {
     "data": {
      "image/png": "[encoded data removed]",
      "text/plain": [
       "<Figure size 432x288 with 1 Axes>"
      ]
     },
     "metadata": {
      "needs_background": "light"
     },
     "output_type": "display_data"
    }
   ],
   "source": [
    "model_svm_gs=svm.SVC(kernel='rbf',C=10,gamma=1)\n",
    "f1_svm_gs=model_eval(model_svm_gs,X_train_tf,X_test_tf,y_train,y_test)"
   ]
  },
  {
   "cell_type": "markdown",
   "metadata": {},
   "source": [
    "### 4) Random Forest Classifier"
   ]
  },
  {
   "cell_type": "code",
   "execution_count": 84,
   "metadata": {},
   "outputs": [],
   "source": [
    "model_rf=RandomForestClassifier()"
   ]
  },
  {
   "cell_type": "code",
   "execution_count": 250,
   "metadata": {},
   "outputs": [
    {
     "name": "stdout",
     "output_type": "stream",
     "text": [
      "Accuracy: 0.7288135593220338\n",
      "F1 score: 0.7199999999999999\n"
     ]
    },
    {
     "data": {
      "image/png": "[encoded data removed]",
      "text/plain": [
       "<Figure size 432x288 with 1 Axes>"
      ]
     },
     "metadata": {
      "needs_background": "light"
     },
     "output_type": "display_data"
    }
   ],
   "source": [
    "f1_rf=model_eval(model_rf,X_train_tf,X_test_tf,y_train,y_test)"
   ]
  },
  {
   "cell_type": "code",
   "execution_count": 54,
   "metadata": {},
   "outputs": [],
   "source": [
    "params_rf = {\n",
    "    'bootstrap': [True],\n",
    "    'max_depth': [80, 90, 100, 110],\n",
    "#     'max_features': [2, 3],\n",
    "#     'min_samples_leaf': [3, 4, 5],\n",
    "#     'min_samples_split': [8, 10, 12],\n",
    "    'n_estimators': [100, 200, 300, 1000,2000,3000]\n",
    "}"
   ]
  },
  {
   "cell_type": "code",
   "execution_count": 55,
   "metadata": {},
   "outputs": [
    {
     "name": "stdout",
     "output_type": "stream",
     "text": [
      "Fitting 3 folds for each of 24 candidates, totalling 72 fits\n"
     ]
    },
    {
     "name": "stderr",
     "output_type": "stream",
     "text": [
      "[Parallel(n_jobs=1)]: Using backend SequentialBackend with 1 concurrent workers.\n",
      "[Parallel(n_jobs=1)]: Done  72 out of  72 | elapsed:  6.5min finished\n"
     ]
    }
   ],
   "source": [
    "bp_rf,score_rf=grid_search(model_rf,params_rf,X_train_tf,y_train)"
   ]
  },
  {
   "cell_type": "code",
   "execution_count": 56,
   "metadata": {},
   "outputs": [
    {
     "name": "stdout",
     "output_type": "stream",
     "text": [
      "{'bootstrap': True, 'max_depth': 100, 'n_estimators': 300}\n"
     ]
    }
   ],
   "source": [
    "print(bp_rf)"
   ]
  },
  {
   "cell_type": "code",
   "execution_count": 251,
   "metadata": {},
   "outputs": [
    {
     "name": "stdout",
     "output_type": "stream",
     "text": [
      "Accuracy: 0.7445520581113801\n",
      "F1 score: 0.747305389221557\n"
     ]
    },
    {
     "data": {
      "image/png": "[encoded data removed]",
      "text/plain": [
       "<Figure size 432x288 with 1 Axes>"
      ]
     },
     "metadata": {
      "needs_background": "light"
     },
     "output_type": "display_data"
    }
   ],
   "source": [
    "model_rf_gs=RandomForestClassifier(bootstrap=True, max_depth=100, n_estimators=300)\n",
    "f1_rf_gs=model_eval(model_rf_gs,X_train_tf,X_test_tf,y_train,y_test)"
   ]
  },
  {
   "cell_type": "markdown",
   "metadata": {},
   "source": [
    "### 5) XGBoost Classifier"
   ]
  },
  {
   "cell_type": "code",
   "execution_count": 91,
   "metadata": {},
   "outputs": [],
   "source": [
    "model_xgb=xgb.XGBClassifier(n_estimators=2000,max_depth=30)"
   ]
  },
  {
   "cell_type": "code",
   "execution_count": 252,
   "metadata": {},
   "outputs": [
    {
     "name": "stdout",
     "output_type": "stream",
     "text": [
      "Accuracy: 0.7990314769975787\n",
      "F1 score: 0.8014354066985647\n"
     ]
    },
    {
     "data": {
      "image/png": "[encoded data removed]",
      "text/plain": [
       "<Figure size 432x288 with 1 Axes>"
      ]
     },
     "metadata": {
      "needs_background": "light"
     },
     "output_type": "display_data"
    }
   ],
   "source": [
    "f1_xgb=model_eval(model_xgb,X_train_tf,X_test_tf,y_train,y_test)"
   ]
  },
  {
   "cell_type": "code",
   "execution_count": 102,
   "metadata": {},
   "outputs": [],
   "source": [
    "params_xgb = {\n",
    "        'gamma': [0.5, 1, 1.5, 2, 5],\n",
    "        'n_estimators': [100,500,1000,2000,3000],\n",
    "        'max_depth': [10,30,50]\n",
    "        }\n",
    "model_xgb_bl=xgb.XGBClassifier()"
   ]
  },
  {
   "cell_type": "code",
   "execution_count": 103,
   "metadata": {},
   "outputs": [
    {
     "name": "stdout",
     "output_type": "stream",
     "text": [
      "Fitting 3 folds for each of 75 candidates, totalling 225 fits\n"
     ]
    },
    {
     "name": "stderr",
     "output_type": "stream",
     "text": [
      "[Parallel(n_jobs=1)]: Using backend SequentialBackend with 1 concurrent workers.\n",
      "[Parallel(n_jobs=1)]: Done 225 out of 225 | elapsed: 57.6min finished\n"
     ]
    }
   ],
   "source": [
    "bp_xgb,score_xgb=grid_search(model_xgb_bl,params_xgb,X_train_tf,y_train)"
   ]
  },
  {
   "cell_type": "code",
   "execution_count": 105,
   "metadata": {},
   "outputs": [
    {
     "name": "stdout",
     "output_type": "stream",
     "text": [
      "{'gamma': 1, 'max_depth': 10, 'n_estimators': 100}\n"
     ]
    }
   ],
   "source": [
    "print(bp_xgb)"
   ]
  },
  {
   "cell_type": "code",
   "execution_count": 253,
   "metadata": {},
   "outputs": [
    {
     "name": "stdout",
     "output_type": "stream",
     "text": [
      "Accuracy: 0.7493946731234867\n",
      "F1 score: 0.7532777115613826\n"
     ]
    },
    {
     "data": {
      "image/png": "[encoded data removed]",
      "text/plain": [
       "<Figure size 432x288 with 1 Axes>"
      ]
     },
     "metadata": {
      "needs_background": "light"
     },
     "output_type": "display_data"
    }
   ],
   "source": [
    "model_xgb_gs=xgb.XGBClassifier(n_estimators=100,max_depth=10,gamma=1)\n",
    "f1_xgb_gs=model_eval(model_rf_gs,X_train_tf,X_test_tf,y_train,y_test)"
   ]
  },
  {
   "cell_type": "markdown",
   "metadata": {},
   "source": [
    "### TPOT AutoML model selection"
   ]
  },
  {
   "cell_type": "code",
   "execution_count": 187,
   "metadata": {},
   "outputs": [
    {
     "data": {
      "application/vnd.jupyter.widget-view+json": {
       "model_id": "",
       "version_major": 2,
       "version_minor": 0
      },
      "text/plain": [
       "HBox(children=(FloatProgress(value=0.0, description='Optimization Progress', max=3100.0, style=ProgressStyle(d…"
      ]
     },
     "metadata": {},
     "output_type": "display_data"
    },
    {
     "name": "stdout",
     "output_type": "stream",
     "text": [
      "Generation 1 - Current best internal CV score: 0.7698250273411981\n",
      "Generation 2 - Current best internal CV score: 0.7715527369869459\n",
      "Generation 3 - Current best internal CV score: 0.7715527369869459\n",
      "Generation 4 - Current best internal CV score: 0.7729113997252844\n",
      "Generation 5 - Current best internal CV score: 0.7758042170743433\n",
      "Generation 6 - Current best internal CV score: 0.7758042170743433\n",
      "Generation 7 - Current best internal CV score: 0.7758042170743433\n",
      "Generation 8 - Current best internal CV score: 0.7788777417830705\n",
      "Generation 9 - Current best internal CV score: 0.7788777417830705\n",
      "Generation 10 - Current best internal CV score: 0.7788777417830705\n",
      "Generation 11 - Current best internal CV score: 0.7804613299390649\n",
      "Generation 12 - Current best internal CV score: 0.7804613299390649\n",
      "Generation 13 - Current best internal CV score: 0.7804613299390649\n",
      "Generation 14 - Current best internal CV score: 0.7804613299390649\n",
      "Generation 15 - Current best internal CV score: 0.7804613299390649\n",
      "Generation 16 - Current best internal CV score: 0.7810087700857394\n",
      "Generation 17 - Current best internal CV score: 0.7813581339270095\n",
      "Generation 18 - Current best internal CV score: 0.7814299135035307\n",
      "Generation 19 - Current best internal CV score: 0.7823924838506292\n",
      "Generation 20 - Current best internal CV score: 0.7831889302446625\n",
      "Generation 21 - Current best internal CV score: 0.7831889302446625\n",
      "Generation 22 - Current best internal CV score: 0.7831889302446625\n",
      "Generation 23 - Current best internal CV score: 0.7831889302446625\n",
      "Generation 24 - Current best internal CV score: 0.7831889302446625\n",
      "Generation 25 - Current best internal CV score: 0.7848957038459137\n",
      "Generation 26 - Current best internal CV score: 0.7851477960255524\n",
      "Generation 27 - Current best internal CV score: 0.7851477960255524\n",
      "Generation 28 - Current best internal CV score: 0.7859066196887198\n",
      "Generation 29 - Current best internal CV score: 0.7859066196887198\n",
      "Generation 30 - Current best internal CV score: 0.7859066196887198\n",
      "\n",
      "Best pipeline: KNeighborsClassifier(PCA(SelectFwe(DecisionTreeClassifier(DecisionTreeClassifier(input_matrix, criterion=gini, max_depth=5, min_samples_leaf=9, min_samples_split=6), criterion=gini, max_depth=5, min_samples_leaf=18, min_samples_split=6), alpha=0.038), iterated_power=5, svd_solver=randomized), n_neighbors=92, p=2, weights=distance)\n",
      "0.7934065934065934\n"
     ]
    }
   ],
   "source": [
    "tpot_classifer=do_tpot(X_train_tf,X_test_tf,y_train,y_test,generations=30, population_size=100)"
   ]
  },
  {
   "cell_type": "code",
   "execution_count": 256,
   "metadata": {},
   "outputs": [
    {
     "name": "stdout",
     "output_type": "stream",
     "text": [
      "Accuracy: 0.7796610169491526\n",
      "F1 score: 0.7986725663716815\n"
     ]
    },
    {
     "data": {
      "image/png": "[encoded data removed]",
      "text/plain": [
       "<Figure size 432x288 with 1 Axes>"
      ]
     },
     "metadata": {
      "needs_background": "light"
     },
     "output_type": "display_data"
    }
   ],
   "source": [
    "from sklearn.decomposition import PCA\n",
    "from sklearn.feature_selection import SelectFwe, f_classif\n",
    "from sklearn.model_selection import train_test_split\n",
    "from sklearn.neighbors import KNeighborsClassifier\n",
    "from sklearn.pipeline import make_pipeline, make_union\n",
    "from sklearn.tree import DecisionTreeClassifier\n",
    "from tpot.builtins import StackingEstimator\n",
    "\n",
    "\n",
    "exported_pipeline = make_pipeline(\n",
    "    StackingEstimator(estimator=DecisionTreeClassifier(criterion=\"gini\", max_depth=5, min_samples_leaf=9, min_samples_split=6)),\n",
    "    StackingEstimator(estimator=DecisionTreeClassifier(criterion=\"gini\", max_depth=5, min_samples_leaf=18, min_samples_split=6)),\n",
    "    SelectFwe(score_func=f_classif, alpha=0.038),\n",
    "    PCA(iterated_power=5, svd_solver=\"randomized\"),\n",
    "    KNeighborsClassifier(n_neighbors=92, p=2, weights=\"distance\")\n",
    ")\n",
    "\n",
    "f1_tpot=model_eval(exported_pipeline,X_train,X_test,y_train,y_test)"
   ]
  },
  {
   "cell_type": "code",
   "execution_count": 189,
   "metadata": {},
   "outputs": [
    {
     "data": {
      "application/vnd.jupyter.widget-view+json": {
       "model_id": "",
       "version_major": 2,
       "version_minor": 0
      },
      "text/plain": [
       "HBox(children=(FloatProgress(value=0.0, description='Optimization Progress', max=2550.0, style=ProgressStyle(d…"
      ]
     },
     "metadata": {},
     "output_type": "display_data"
    },
    {
     "name": "stdout",
     "output_type": "stream",
     "text": [
      "Generation 1 - Current best internal CV score: 0.7496215561610656\n",
      "Generation 2 - Current best internal CV score: 0.7496215561610656\n",
      "Generation 3 - Current best internal CV score: 0.7496215561610656\n",
      "Generation 4 - Current best internal CV score: 0.7496215561610656\n",
      "Generation 5 - Current best internal CV score: 0.7496215561610656\n",
      "Generation 6 - Current best internal CV score: 0.7565849227974569\n",
      "Generation 7 - Current best internal CV score: 0.7565849227974569\n",
      "Generation 8 - Current best internal CV score: 0.7565849227974569\n",
      "Generation 9 - Current best internal CV score: 0.7565849227974569\n",
      "Generation 10 - Current best internal CV score: 0.7565849227974569\n",
      "Generation 11 - Current best internal CV score: 0.7626400242204058\n",
      "Generation 12 - Current best internal CV score: 0.7626400242204058\n",
      "Generation 13 - Current best internal CV score: 0.7626400242204058\n",
      "Generation 14 - Current best internal CV score: 0.7626400242204058\n",
      "Generation 15 - Current best internal CV score: 0.7626400242204058\n",
      "Generation 16 - Current best internal CV score: 0.7626400242204058\n",
      "Generation 17 - Current best internal CV score: 0.7626400242204058\n",
      "Generation 18 - Current best internal CV score: 0.7626400242204058\n",
      "Generation 19 - Current best internal CV score: 0.7626400242204058\n",
      "Generation 20 - Current best internal CV score: 0.7626400242204058\n",
      "Generation 21 - Current best internal CV score: 0.7626400242204058\n",
      "Generation 22 - Current best internal CV score: 0.7626400242204058\n",
      "Generation 23 - Current best internal CV score: 0.7626400242204058\n",
      "Generation 24 - Current best internal CV score: 0.7641537995761429\n",
      "Generation 25 - Current best internal CV score: 0.7641537995761429\n",
      "Generation 26 - Current best internal CV score: 0.7641537995761429\n",
      "Generation 27 - Current best internal CV score: 0.7653648198607327\n",
      "Generation 28 - Current best internal CV score: 0.7653648198607327\n",
      "Generation 29 - Current best internal CV score: 0.7653648198607327\n",
      "Generation 30 - Current best internal CV score: 0.7653648198607327\n",
      "Generation 31 - Current best internal CV score: 0.7653648198607327\n",
      "Generation 32 - Current best internal CV score: 0.7653648198607327\n",
      "Generation 33 - Current best internal CV score: 0.7653648198607327\n",
      "Generation 34 - Current best internal CV score: 0.7653648198607327\n",
      "Generation 35 - Current best internal CV score: 0.7653648198607327\n",
      "Generation 36 - Current best internal CV score: 0.7653648198607327\n",
      "Generation 37 - Current best internal CV score: 0.7653648198607327\n",
      "Generation 38 - Current best internal CV score: 0.7653648198607327\n",
      "Generation 39 - Current best internal CV score: 0.7653648198607327\n",
      "Generation 40 - Current best internal CV score: 0.7653648198607327\n",
      "Generation 41 - Current best internal CV score: 0.7653648198607327\n",
      "Generation 42 - Current best internal CV score: 0.7653648198607327\n",
      "Generation 43 - Current best internal CV score: 0.7653648198607327\n",
      "Generation 44 - Current best internal CV score: 0.7653648198607327\n",
      "Generation 45 - Current best internal CV score: 0.7653648198607327\n",
      "Generation 46 - Current best internal CV score: 0.7653648198607327\n",
      "Generation 47 - Current best internal CV score: 0.7653648198607327\n",
      "Generation 48 - Current best internal CV score: 0.7653648198607327\n",
      "Generation 49 - Current best internal CV score: 0.7653648198607327\n",
      "Generation 50 - Current best internal CV score: 0.7653648198607327\n",
      "\n",
      "Best pipeline: ExtraTreesClassifier(ExtraTreesClassifier(RBFSampler(BernoulliNB(BernoulliNB(input_matrix, alpha=0.001, fit_prior=False), alpha=1.0, fit_prior=False), gamma=0.8), bootstrap=False, criterion=gini, max_features=0.45, min_samples_leaf=1, min_samples_split=4, n_estimators=100), bootstrap=True, criterion=entropy, max_features=0.5, min_samples_leaf=20, min_samples_split=4, n_estimators=100)\n",
      "0.7808716707021792\n"
     ]
    }
   ],
   "source": [
    "tpot_classifer_raw=do_tpot_raw(generations=50, population_size=50,X=X,y=y)"
   ]
  },
  {
   "cell_type": "code",
   "execution_count": 254,
   "metadata": {},
   "outputs": [
    {
     "name": "stdout",
     "output_type": "stream",
     "text": [
      "Accuracy: 0.7736077481840193\n",
      "F1 score: 0.7828106852497098\n"
     ]
    },
    {
     "data": {
      "image/png": "[encoded data removed]",
      "text/plain": [
       "<Figure size 432x288 with 1 Axes>"
      ]
     },
     "metadata": {
      "needs_background": "light"
     },
     "output_type": "display_data"
    }
   ],
   "source": [
    "from sklearn.ensemble import ExtraTreesClassifier\n",
    "from sklearn.kernel_approximation import RBFSampler\n",
    "from sklearn.model_selection import train_test_split\n",
    "from sklearn.naive_bayes import BernoulliNB\n",
    "from sklearn.pipeline import make_pipeline, make_union\n",
    "from tpot.builtins import StackingEstimator\n",
    "\n",
    "exported_pipeline_raw = make_pipeline(\n",
    "    StackingEstimator(estimator=BernoulliNB(alpha=0.001, fit_prior=False)),\n",
    "    StackingEstimator(estimator=BernoulliNB(alpha=1.0, fit_prior=False)),\n",
    "    RBFSampler(gamma=0.8),\n",
    "    StackingEstimator(estimator=ExtraTreesClassifier(bootstrap=False, criterion=\"gini\", max_features=0.45, min_samples_leaf=1, min_samples_split=4, n_estimators=100)),\n",
    "    ExtraTreesClassifier(bootstrap=True, criterion=\"entropy\", max_features=0.5, min_samples_leaf=20, min_samples_split=4, n_estimators=100)\n",
    ")\n",
    "\n",
    "f1_tpo_rawt=model_eval(exported_pipeline_raw,X_train,X_test,y_train,y_test)"
   ]
  },
  {
   "cell_type": "code",
   "execution_count": 35,
   "metadata": {},
   "outputs": [
    {
     "data": {
      "application/vnd.jupyter.widget-view+json": {
       "model_id": "",
       "version_major": 2,
       "version_minor": 0
      },
      "text/plain": [
       "HBox(children=(FloatProgress(value=0.0, description='Optimization Progress', max=840.0, style=ProgressStyle(de…"
      ]
     },
     "metadata": {},
     "output_type": "display_data"
    },
    {
     "name": "stdout",
     "output_type": "stream",
     "text": [
      "Generation 1 - Current best internal CV score: 0.7502247360733542\n",
      "Generation 2 - Current best internal CV score: 0.7502247360733542\n",
      "Generation 3 - Current best internal CV score: 0.7541663263731636\n",
      "Generation 4 - Current best internal CV score: 0.7562795597668531\n",
      "Generation 5 - Current best internal CV score: 0.7562795597668531\n",
      "Generation 6 - Current best internal CV score: 0.7562795597668531\n",
      "Generation 7 - Current best internal CV score: 0.7562795597668531\n",
      "Generation 8 - Current best internal CV score: 0.7562795597668531\n",
      "Generation 9 - Current best internal CV score: 0.7599134503123782\n",
      "Generation 10 - Current best internal CV score: 0.7599134503123782\n",
      "Generation 11 - Current best internal CV score: 0.7629421009523573\n",
      "Generation 12 - Current best internal CV score: 0.7629421009523573\n",
      "Generation 13 - Current best internal CV score: 0.764150373413739\n",
      "Generation 14 - Current best internal CV score: 0.764150373413739\n",
      "Generation 15 - Current best internal CV score: 0.764756432021746\n",
      "Generation 16 - Current best internal CV score: 0.764756432021746\n",
      "Generation 17 - Current best internal CV score: 0.764756432021746\n",
      "Generation 18 - Current best internal CV score: 0.764756432021746\n",
      "Generation 19 - Current best internal CV score: 0.764756432021746\n",
      "Generation 20 - Current best internal CV score: 0.7689963811752781\n",
      "\n",
      "Best pipeline: KNeighborsClassifier(XGBClassifier(PolynomialFeatures(DecisionTreeClassifier(input_matrix, criterion=entropy, max_depth=6, min_samples_leaf=13, min_samples_split=7), degree=2, include_bias=False, interaction_only=False), learning_rate=0.5, max_depth=7, min_child_weight=13, n_estimators=100, nthread=1, subsample=0.9000000000000001), n_neighbors=10, p=1, weights=distance)\n",
      "0.7990314769975787\n"
     ]
    }
   ],
   "source": [
    "tpot_classifer = do_tpot(generations=20, population_size=40,X=X,y=y)"
   ]
  },
  {
   "cell_type": "markdown",
   "metadata": {},
   "source": [
    "### Plots"
   ]
  },
  {
   "cell_type": "code",
   "execution_count": 231,
   "metadata": {},
   "outputs": [
    {
     "data": {
      "image/png": "[encoded data removed]",
      "text/plain": [
       "<Figure size 720x576 with 1 Axes>"
      ]
     },
     "metadata": {
      "needs_background": "light"
     },
     "output_type": "display_data"
    },
    {
     "data": {
      "image/png": "[encoded data removed]",
      "text/plain": [
       "<Figure size 720x576 with 1 Axes>"
      ]
     },
     "metadata": {
      "needs_background": "light"
     },
     "output_type": "display_data"
    },
    {
     "data": {
      "image/png": "[encoded data removed]",
      "text/plain": [
       "<Figure size 864x576 with 1 Axes>"
      ]
     },
     "metadata": {
      "needs_background": "light"
     },
     "output_type": "display_data"
    }
   ],
   "source": [
    "f1_scores=[f1_lr,f1_knn,f1_svm,f1_rf,f1_xgb]\n",
    "f1_scores_gs=[f1_lr_gs,f1_knn_gs,f1_svm_gs,f1_rf_gs,f1_xgb_gs]\n",
    "f1_scores_all=[f1_lr,f1_knn,f1_svm,f1_rf,f1_xgb,f1_lr_gs,f1_knn_gs,f1_svm_gs,f1_rf_gs,f1_xgb_gs,f1_tpo_rawt,f1_tpot]\n",
    "\n",
    "labels=['LR','KNN','SVM','RF','XGB']\n",
    "labels_gs=['LR_GS','KNN_GS','SVM_GS','RF_GS','XGB_GS']\n",
    "labels_all=['LR','KNN','SVM','RF','XGB','LR_GS','KNN_GS','SVM_GS','RF_GS','XGB_GS','TPOT_1', 'TPOT_2']\n",
    "\n",
    "x=np.arange(1,10,2)\n",
    "x_all=np.arange(1,24,2)\n",
    "\n",
    "plt.figure(figsize=(10,8))\n",
    "plt.title('F1 scores')\n",
    "\n",
    "for i,j in zip(x,f1_scores):\n",
    "    plt.bar(i,j)\n",
    "\n",
    "plt.legend(labels)\n",
    "plt.ylim(0.6,0.81)\n",
    "plt.grid()\n",
    "\n",
    "plt.figure(figsize=(10,8))\n",
    "plt.title('F1 scores GS')\n",
    "\n",
    "for i,j in zip(x,f1_scores_gs):\n",
    "    plt.bar(i,j)\n",
    "\n",
    "plt.legend(labels_gs)\n",
    "plt.ylim(0.6,0.76)\n",
    "plt.grid()\n",
    "\n",
    "plt.figure(figsize=(12,8))\n",
    "plt.title('F1 scores all models')\n",
    "\n",
    "for i,j in zip(x_all,f1_scores_all):\n",
    "    plt.bar(i,j)\n",
    "\n",
    "plt.legend(labels_all)\n",
    "plt.ylim(0.6,0.81)\n",
    "plt.grid()"
   ]
  },
  {
   "cell_type": "code",
   "execution_count": null,
   "metadata": {},
   "outputs": [],
   "source": []
  }
 ],
 "metadata": {
  "kernelspec": {
   "display_name": "Python 3",
   "language": "python",
   "name": "python3"
  },
  "language_info": {
   "codemirror_mode": {
    "name": "ipython",
    "version": 3
   },
   "file_extension": ".py",
   "mimetype": "text/x-python",
   "name": "python",
   "nbconvert_exporter": "python",
   "pygments_lexer": "ipython3",
   "version": "3.7.4"
  }
 },
 "nbformat": 4,
 "nbformat_minor": 2
}
